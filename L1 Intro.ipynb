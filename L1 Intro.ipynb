{
  "nbformat": 4,
  "nbformat_minor": 0,
  "metadata": {
    "colab": {
      "name": "L1 Intro.ipynb",
      "provenance": [],
      "collapsed_sections": []
    },
    "kernelspec": {
      "name": "python3",
      "display_name": "Python 3"
    }
  },
  "cells": [
    {
      "cell_type": "markdown",
      "metadata": {
        "id": "UD8NKCM8bcZK"
      },
      "source": [
        "## **Intro to Python**"
      ]
    },
    {
      "cell_type": "markdown",
      "metadata": {
        "id": "myzzvLu7Hmpc"
      },
      "source": [
        "*This notebook is based on content from CSE20 (first CS class taken at UCSC). All workshops are recorded [here](https://drive.google.com/drive/folders/1Lg1ZWQ3-NhO-qhgzrpaTK0UvLmiWGukx?usp=sharing).*\r\n",
        "\r\n",
        "*If you have any questions, feel free to contact me via email: ayyen@ucsc.edu*"
      ]
    },
    {
      "cell_type": "markdown",
      "metadata": {
        "id": "2hUA7Ujib1Vg"
      },
      "source": [
        "Print function\r\n"
      ]
    },
    {
      "cell_type": "code",
      "metadata": {
        "id": "FUeBN49ybvXr",
        "colab": {
          "base_uri": "https://localhost:8080/"
        },
        "outputId": "80eb10c2-7236-4abe-c1cb-03495043b53e"
      },
      "source": [
        "print(\"Goodbye World\")"
      ],
      "execution_count": null,
      "outputs": [
        {
          "output_type": "stream",
          "text": [
            "Goodbye World\n"
          ],
          "name": "stdout"
        }
      ]
    },
    {
      "cell_type": "code",
      "metadata": {
        "id": "pLP2jrurWXdt",
        "colab": {
          "base_uri": "https://localhost:8080/"
        },
        "outputId": "4fa95fc8-a275-401e-ae8d-d14006ac0f4a"
      },
      "source": [
        "#Print multiple things\r\n",
        "x = 1\r\n",
        "y = 2\r\n",
        "z = 3\r\n",
        "print(x,y,z)\r\n",
        "#Different from printing x, then printing y, then printing z"
      ],
      "execution_count": null,
      "outputs": [
        {
          "output_type": "stream",
          "text": [
            "1 2 3\n"
          ],
          "name": "stdout"
        }
      ]
    },
    {
      "cell_type": "code",
      "metadata": {
        "id": "_-MQU20iWB7X"
      },
      "source": [
        "#Exercise\r\n",
        "#Print the word \"hello everyone\":\r\n",
        "\r\n"
      ],
      "execution_count": null,
      "outputs": []
    },
    {
      "cell_type": "markdown",
      "metadata": {
        "id": "vmQfrT6EcCsh"
      },
      "source": [
        "Commenting"
      ]
    },
    {
      "cell_type": "code",
      "metadata": {
        "id": "JPcw6jhgcD60"
      },
      "source": [
        "#This is a comment"
      ],
      "execution_count": null,
      "outputs": []
    },
    {
      "cell_type": "code",
      "metadata": {
        "id": "_9X-G6y1_QHQ"
      },
      "source": [
        "'''\r\n",
        "Idk why \r\n",
        "colab prints this thing\r\n",
        "ideally it shouldnt happen\r\n",
        "\r\n",
        "'''"
      ],
      "execution_count": null,
      "outputs": []
    },
    {
      "cell_type": "markdown",
      "metadata": {
        "id": "_rPfBHr_cshh"
      },
      "source": [
        "Numbers and Math Operations"
      ]
    },
    {
      "cell_type": "code",
      "metadata": {
        "id": "CZ28fiy_czxX"
      },
      "source": [
        "x = 1 # int\r\n",
        "y = 3.1 # float"
      ],
      "execution_count": null,
      "outputs": []
    },
    {
      "cell_type": "markdown",
      "metadata": {
        "id": "oHHpfiwvc8d7"
      },
      "source": [
        "Examples"
      ]
    },
    {
      "cell_type": "code",
      "metadata": {
        "id": "VJ0ILKBpc-n7",
        "colab": {
          "base_uri": "https://localhost:8080/"
        },
        "outputId": "f7ad98a0-6ce7-4973-88d3-77ce226bd4ab"
      },
      "source": [
        "x + y #Addition float"
      ],
      "execution_count": null,
      "outputs": [
        {
          "output_type": "execute_result",
          "data": {
            "text/plain": [
              "4.1"
            ]
          },
          "metadata": {
            "tags": []
          },
          "execution_count": 5
        }
      ]
    },
    {
      "cell_type": "code",
      "metadata": {
        "id": "q1lUfhw9dCB7",
        "colab": {
          "base_uri": "https://localhost:8080/"
        },
        "outputId": "fd1953d0-c8cb-4ed9-d21e-f1670e533179"
      },
      "source": [
        "x + 1 #Addition int"
      ],
      "execution_count": null,
      "outputs": [
        {
          "output_type": "execute_result",
          "data": {
            "text/plain": [
              "2"
            ]
          },
          "metadata": {
            "tags": []
          },
          "execution_count": 6
        }
      ]
    },
    {
      "cell_type": "code",
      "metadata": {
        "id": "I7TkjuvAdIol",
        "colab": {
          "base_uri": "https://localhost:8080/"
        },
        "outputId": "b3cb5cbb-7f7e-4beb-bc69-2c3c921eac61"
      },
      "source": [
        "x - y #Subtraction float"
      ],
      "execution_count": null,
      "outputs": [
        {
          "output_type": "execute_result",
          "data": {
            "text/plain": [
              "-2.1"
            ]
          },
          "metadata": {
            "tags": []
          },
          "execution_count": 7
        }
      ]
    },
    {
      "cell_type": "code",
      "metadata": {
        "id": "mcko2u7Ids_m",
        "colab": {
          "base_uri": "https://localhost:8080/"
        },
        "outputId": "8f74fa7b-1525-4e1a-be58-14bc21cdbca2"
      },
      "source": [
        "x - x #Subtraction int"
      ],
      "execution_count": null,
      "outputs": [
        {
          "output_type": "execute_result",
          "data": {
            "text/plain": [
              "0"
            ]
          },
          "metadata": {
            "tags": []
          },
          "execution_count": 8
        }
      ]
    },
    {
      "cell_type": "code",
      "metadata": {
        "id": "RzKo5sIMdxKM",
        "colab": {
          "base_uri": "https://localhost:8080/"
        },
        "outputId": "6b9e1c32-15e6-48c4-97ce-2b34009d2f69"
      },
      "source": [
        "x / 2 #Float division"
      ],
      "execution_count": null,
      "outputs": [
        {
          "output_type": "execute_result",
          "data": {
            "text/plain": [
              "0.5"
            ]
          },
          "metadata": {
            "tags": []
          },
          "execution_count": 9
        }
      ]
    },
    {
      "cell_type": "code",
      "metadata": {
        "id": "2JRl34PLd_4e",
        "colab": {
          "base_uri": "https://localhost:8080/"
        },
        "outputId": "e86b1112-c3bd-4e47-d4eb-a495a77c2649"
      },
      "source": [
        "x // 2  #Int division"
      ],
      "execution_count": null,
      "outputs": [
        {
          "output_type": "execute_result",
          "data": {
            "text/plain": [
              "0"
            ]
          },
          "metadata": {
            "tags": []
          },
          "execution_count": 10
        }
      ]
    },
    {
      "cell_type": "code",
      "metadata": {
        "id": "9peAzFMqeCuW",
        "colab": {
          "base_uri": "https://localhost:8080/"
        },
        "outputId": "01d3a976-5a3e-4789-a0ea-9d7ee9378171"
      },
      "source": [
        "7 % 3 #Modulo"
      ],
      "execution_count": null,
      "outputs": [
        {
          "output_type": "execute_result",
          "data": {
            "text/plain": [
              "1"
            ]
          },
          "metadata": {
            "tags": []
          },
          "execution_count": 11
        }
      ]
    },
    {
      "cell_type": "code",
      "metadata": {
        "id": "GTUvW58nfw5H",
        "colab": {
          "base_uri": "https://localhost:8080/"
        },
        "outputId": "efc651df-2396-4c1b-978c-bfda84f1ab65"
      },
      "source": [
        "x = float(input(\"Please enter a number: \"))\r\n",
        "y = float(input(\"Please enter another number: \"))\r\n",
        "  \r\n",
        "z = x + y # Add the inputs together\r\n",
        " \r\n",
        "print(\"The sum of your two inputs is:\", z)"
      ],
      "execution_count": null,
      "outputs": [
        {
          "output_type": "stream",
          "text": [
            "Please enter a number: 5\n",
            "Please enter another number: 9\n",
            "The sum of your two inputs is: 14.0\n"
          ],
          "name": "stdout"
        }
      ]
    },
    {
      "cell_type": "code",
      "metadata": {
        "id": "bHh0OmVwf-ZQ",
        "colab": {
          "base_uri": "https://localhost:8080/"
        },
        "outputId": "d3b69c46-3d01-4cbc-a85c-334e2e7c065b"
      },
      "source": [
        "x = float(3.14)   #convert from float to int\r\n",
        "print(int(x))\r\n",
        "\r\n",
        "print(int(3.14))    #Same computation"
      ],
      "execution_count": null,
      "outputs": [
        {
          "output_type": "stream",
          "text": [
            "3\n",
            "3\n"
          ],
          "name": "stdout"
        }
      ]
    },
    {
      "cell_type": "markdown",
      "metadata": {
        "id": "jJ_D-nNEfdEs"
      },
      "source": [
        "Boolean"
      ]
    },
    {
      "cell_type": "code",
      "metadata": {
        "id": "uYnu8_yyfeje"
      },
      "source": [
        "x = True"
      ],
      "execution_count": null,
      "outputs": []
    },
    {
      "cell_type": "code",
      "metadata": {
        "id": "usTHd_H_hMfv",
        "colab": {
          "base_uri": "https://localhost:8080/"
        },
        "outputId": "908a67fd-5bef-4905-d99c-293ec2e2d7fc"
      },
      "source": [
        "print(not x)"
      ],
      "execution_count": null,
      "outputs": [
        {
          "output_type": "stream",
          "text": [
            "False\n"
          ],
          "name": "stdout"
        }
      ]
    },
    {
      "cell_type": "code",
      "metadata": {
        "id": "IdcMxSGV9oEL",
        "colab": {
          "base_uri": "https://localhost:8080/"
        },
        "outputId": "913368d1-d6ab-4f73-da98-94acb8976815"
      },
      "source": [
        "1 and 0"
      ],
      "execution_count": null,
      "outputs": [
        {
          "output_type": "execute_result",
          "data": {
            "text/plain": [
              "0"
            ]
          },
          "metadata": {
            "tags": []
          },
          "execution_count": 16
        }
      ]
    },
    {
      "cell_type": "code",
      "metadata": {
        "id": "8rT8z6j190ck",
        "colab": {
          "base_uri": "https://localhost:8080/"
        },
        "outputId": "1ebc06dd-b502-4452-cf9e-7d5641e1e6ae"
      },
      "source": [
        "1 or 0"
      ],
      "execution_count": null,
      "outputs": [
        {
          "output_type": "execute_result",
          "data": {
            "text/plain": [
              "1"
            ]
          },
          "metadata": {
            "tags": []
          },
          "execution_count": 17
        }
      ]
    },
    {
      "cell_type": "markdown",
      "metadata": {
        "id": "Svq0pP6ThUWC"
      },
      "source": [
        "Inequality"
      ]
    },
    {
      "cell_type": "code",
      "metadata": {
        "id": "A0qwOscfhVY-"
      },
      "source": [
        "x = 1\r\n"
      ],
      "execution_count": null,
      "outputs": []
    },
    {
      "cell_type": "code",
      "metadata": {
        "id": "ua3UPIJXhiC6",
        "colab": {
          "base_uri": "https://localhost:8080/"
        },
        "outputId": "8a1937c0-aebf-485f-c2a1-6db0b77f39e8"
      },
      "source": [
        "1 < 2"
      ],
      "execution_count": null,
      "outputs": [
        {
          "output_type": "execute_result",
          "data": {
            "text/plain": [
              "True"
            ]
          },
          "metadata": {
            "tags": []
          },
          "execution_count": 19
        }
      ]
    },
    {
      "cell_type": "code",
      "metadata": {
        "id": "PenPczBVhlWu",
        "colab": {
          "base_uri": "https://localhost:8080/"
        },
        "outputId": "6e22b027-0190-4d7f-f44d-1d3e954a19a4"
      },
      "source": [
        "1 == 2"
      ],
      "execution_count": null,
      "outputs": [
        {
          "output_type": "execute_result",
          "data": {
            "text/plain": [
              "False"
            ]
          },
          "metadata": {
            "tags": []
          },
          "execution_count": 20
        }
      ]
    },
    {
      "cell_type": "code",
      "metadata": {
        "id": "TeBe1Hd5-tgI",
        "colab": {
          "base_uri": "https://localhost:8080/"
        },
        "outputId": "b636d0c8-bfdb-4d9e-ad43-cdccd11b6194"
      },
      "source": [
        "1 != 2"
      ],
      "execution_count": null,
      "outputs": [
        {
          "output_type": "execute_result",
          "data": {
            "text/plain": [
              "True"
            ]
          },
          "metadata": {
            "tags": []
          },
          "execution_count": 21
        }
      ]
    },
    {
      "cell_type": "markdown",
      "metadata": {
        "id": "IptWUrd8gn8u"
      },
      "source": [
        "Types"
      ]
    },
    {
      "cell_type": "code",
      "metadata": {
        "id": "i_oXMalEgpM7",
        "colab": {
          "base_uri": "https://localhost:8080/"
        },
        "outputId": "7d6ac5c4-adf5-47d0-a827-9fb977d64e4d"
      },
      "source": [
        "print(type(1))"
      ],
      "execution_count": null,
      "outputs": [
        {
          "output_type": "stream",
          "text": [
            "<class 'int'>\n"
          ],
          "name": "stdout"
        }
      ]
    },
    {
      "cell_type": "code",
      "metadata": {
        "id": "ij8tSpv7gzPk",
        "colab": {
          "base_uri": "https://localhost:8080/"
        },
        "outputId": "e2b089db-5623-4736-cbde-406d42a1a3de"
      },
      "source": [
        "print(type(5))"
      ],
      "execution_count": null,
      "outputs": [
        {
          "output_type": "stream",
          "text": [
            "<class 'int'>\n"
          ],
          "name": "stdout"
        }
      ]
    },
    {
      "cell_type": "code",
      "metadata": {
        "id": "ghJGFfLQgz6i",
        "colab": {
          "base_uri": "https://localhost:8080/"
        },
        "outputId": "bc6b9e5f-b7ed-4dc8-e8e7-0eb5cb8fb9ad"
      },
      "source": [
        "print(type(3.142))"
      ],
      "execution_count": null,
      "outputs": [
        {
          "output_type": "stream",
          "text": [
            "<class 'float'>\n"
          ],
          "name": "stdout"
        }
      ]
    },
    {
      "cell_type": "code",
      "metadata": {
        "id": "zsDYfh6Zg1Si",
        "colab": {
          "base_uri": "https://localhost:8080/"
        },
        "outputId": "a2c7e09e-37bc-4bbf-bc07-a2462e74a8fd"
      },
      "source": [
        "print(type(1.0))"
      ],
      "execution_count": null,
      "outputs": [
        {
          "output_type": "stream",
          "text": [
            "<class 'float'>\n"
          ],
          "name": "stdout"
        }
      ]
    },
    {
      "cell_type": "code",
      "metadata": {
        "id": "Cv5PalbCg2UM",
        "colab": {
          "base_uri": "https://localhost:8080/"
        },
        "outputId": "afb89470-c59d-41a9-acf1-e5cc7d7e22ff"
      },
      "source": [
        "print(type(\"hello\"))"
      ],
      "execution_count": null,
      "outputs": [
        {
          "output_type": "stream",
          "text": [
            "<class 'str'>\n"
          ],
          "name": "stdout"
        }
      ]
    },
    {
      "cell_type": "code",
      "metadata": {
        "id": "9kLdzeFLPbYI",
        "colab": {
          "base_uri": "https://localhost:8080/"
        },
        "outputId": "7871879a-68f3-40c0-8523-d0b5fbea3c0d"
      },
      "source": [
        "c = None\r\n",
        "print(c)\r\n",
        "print(type(c))"
      ],
      "execution_count": null,
      "outputs": [
        {
          "output_type": "stream",
          "text": [
            "None\n",
            "<class 'NoneType'>\n"
          ],
          "name": "stdout"
        }
      ]
    },
    {
      "cell_type": "code",
      "metadata": {
        "colab": {
          "base_uri": "https://localhost:8080/",
          "height": 131
        },
        "id": "U5FbfRaRJn_F",
        "outputId": "9b0e3867-77bf-4859-ffdb-e7f59a195e59"
      },
      "source": [
        "print(‘What’s up’)\r\n"
      ],
      "execution_count": null,
      "outputs": [
        {
          "output_type": "error",
          "ename": "SyntaxError",
          "evalue": "ignored",
          "traceback": [
            "\u001b[0;36m  File \u001b[0;32m\"<ipython-input-40-e6b19b093e4e>\"\u001b[0;36m, line \u001b[0;32m1\u001b[0m\n\u001b[0;31m    print(‘What’s up’)\u001b[0m\n\u001b[0m                ^\u001b[0m\n\u001b[0;31mSyntaxError\u001b[0m\u001b[0;31m:\u001b[0m invalid character in identifier\n"
          ]
        }
      ]
    },
    {
      "cell_type": "markdown",
      "metadata": {
        "id": "xmqTevbh-Ru1"
      },
      "source": [
        "Debugging"
      ]
    },
    {
      "cell_type": "code",
      "metadata": {
        "id": "Gp6dqag5-X1-"
      },
      "source": [
        "assert(2 == 2) "
      ],
      "execution_count": null,
      "outputs": []
    },
    {
      "cell_type": "code",
      "metadata": {
        "id": "G6f0K8vEQSAO"
      },
      "source": [
        "x =2\r\n",
        "y=2\r\n",
        "assert x+y ==4"
      ],
      "execution_count": null,
      "outputs": []
    },
    {
      "cell_type": "markdown",
      "metadata": {
        "id": "58BrTo_OvtDx"
      },
      "source": [
        "Challenge!"
      ]
    },
    {
      "cell_type": "code",
      "metadata": {
        "id": "B9oNUOP5vurI",
        "colab": {
          "base_uri": "https://localhost:8080/"
        },
        "outputId": "718b22f0-a6a9-4ea4-da36-3e37fe0334a0"
      },
      "source": [
        "#Take in user input and print out your name (example in slides)\r\n",
        "x = input('Please enter your name: ')\r\n",
        "print('Your name is ',x)\r\n"
      ],
      "execution_count": null,
      "outputs": [
        {
          "output_type": "stream",
          "text": [
            "Please enter your name: Austin\n",
            "Your name is  Austin\n"
          ],
          "name": "stdout"
        }
      ]
    }
  ]
}