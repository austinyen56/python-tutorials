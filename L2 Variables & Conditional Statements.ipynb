{
  "nbformat": 4,
  "nbformat_minor": 0,
  "metadata": {
    "colab": {
      "name": "L2 Variables & Conditional Statements",
      "provenance": []
    },
    "kernelspec": {
      "name": "python3",
      "display_name": "Python 3"
    }
  },
  "cells": [
    {
      "cell_type": "markdown",
      "metadata": {
        "id": "twhxpQlKJIlw"
      },
      "source": [
        "## **Variables & Conditional Statements**"
      ]
    },
    {
      "cell_type": "markdown",
      "metadata": {
        "id": "G2z9O9axJKqc"
      },
      "source": [
        "*This notebook is based on content from CSE20 (first CS class taken at UCSC). All workshops are recorded [here](https://drive.google.com/drive/folders/1Lg1ZWQ3-NhO-qhgzrpaTK0UvLmiWGukx?usp=sharing).*\r\n",
        "\r\n",
        "*If you have any questions, feel free to contact me via email: ayyen@ucsc.edu*"
      ]
    },
    {
      "cell_type": "markdown",
      "metadata": {
        "id": "laHbchNFKNFD"
      },
      "source": [
        "#### **Recap From Last Workshop**"
      ]
    },
    {
      "cell_type": "code",
      "metadata": {
        "id": "Zz7nV0iII-c_"
      },
      "source": [
        "print(\"Hello\")\r\n",
        "print(type(3.14))\r\n",
        "print(2+2)\r\n",
        "print(input(\"Input something: \"))\r\n",
        "x = True\r\n",
        "print(type(x))\r\n",
        "print('hey')\r\n",
        "print('''hey''')"
      ],
      "execution_count": null,
      "outputs": []
    },
    {
      "cell_type": "markdown",
      "metadata": {
        "id": "Slq1VXJmOglc"
      },
      "source": [
        "#### **Variables**"
      ]
    },
    {
      "cell_type": "code",
      "metadata": {
        "id": "WffKkSEvOiJv"
      },
      "source": [
        "x = 1\r\n",
        "y = x + 1\r\n",
        "print(y)\r\n",
        "x = 2\r\n",
        "y = x +1\r\n",
        "print(y)"
      ],
      "execution_count": null,
      "outputs": []
    },
    {
      "cell_type": "code",
      "metadata": {
        "id": "w7xOo9AwhJID"
      },
      "source": [
        "variableName = 'var'\r\n",
        "print(variableName)\r\n"
      ],
      "execution_count": null,
      "outputs": []
    },
    {
      "cell_type": "code",
      "metadata": {
        "id": "k2SQwjkohKCy"
      },
      "source": [
        "__init__ = 'init'\r\n",
        "print(__init__)"
      ],
      "execution_count": null,
      "outputs": []
    },
    {
      "cell_type": "code",
      "metadata": {
        "id": "11F5SgXBhJ4F"
      },
      "source": [
        "69fourtwenty = x\r\n",
        "print(x)"
      ],
      "execution_count": null,
      "outputs": []
    },
    {
      "cell_type": "code",
      "metadata": {
        "id": "4K8Ob3vrhJgT"
      },
      "source": [
        "thisisspacedout = x\r\n",
        "print(thisisspacedout)"
      ],
      "execution_count": null,
      "outputs": []
    },
    {
      "cell_type": "code",
      "metadata": {
        "id": "U5nIaOzb7jmd"
      },
      "source": [
        "return = x\r\n",
        "print(return)"
      ],
      "execution_count": null,
      "outputs": []
    },
    {
      "cell_type": "markdown",
      "metadata": {
        "id": "LToNjGxKK7qH"
      },
      "source": [
        "The .format() Method"
      ]
    },
    {
      "cell_type": "code",
      "metadata": {
        "id": "CRccVoe6L5g3"
      },
      "source": [
        "name = 'Austin'\r\n",
        "age = 20\r\n",
        "print('My name is {0} and I am {1} years old'.format(name,age))"
      ],
      "execution_count": null,
      "outputs": []
    },
    {
      "cell_type": "code",
      "metadata": {
        "id": "ey611Ym8OATE"
      },
      "source": [
        "print('My name is {name} and I am {age} years old'.format(name=name,age=age))"
      ],
      "execution_count": null,
      "outputs": []
    },
    {
      "cell_type": "code",
      "metadata": {
        "id": "nunlDmEUNn23"
      },
      "source": [
        "print(f'My name is {name} and I am {age} years old')"
      ],
      "execution_count": null,
      "outputs": []
    },
    {
      "cell_type": "code",
      "metadata": {
        "id": "pK_RJf7h82t_"
      },
      "source": [
        "print('{0:_^15}'.format('Hello'))"
      ],
      "execution_count": null,
      "outputs": []
    },
    {
      "cell_type": "markdown",
      "metadata": {
        "id": "gzOXr4Y1-vY_"
      },
      "source": [
        "End Parameter"
      ]
    },
    {
      "cell_type": "code",
      "metadata": {
        "id": "K-F0CWIU-xLs"
      },
      "source": [
        "print('a')\r\n",
        "print('b')\r\n",
        "\r\n",
        "print('a', end=' ')\r\n",
        "print('b', end=' *')"
      ],
      "execution_count": null,
      "outputs": []
    },
    {
      "cell_type": "markdown",
      "metadata": {
        "id": "8EwQkfbmA8hn"
      },
      "source": [
        "Escape Sequences"
      ]
    },
    {
      "cell_type": "code",
      "metadata": {
        "id": "4FqNAolyEoha"
      },
      "source": [
        "print('What's up')\t\r\n",
        "#Will give syntax error"
      ],
      "execution_count": null,
      "outputs": []
    },
    {
      "cell_type": "code",
      "metadata": {
        "id": "ytn1CdZmEsBt"
      },
      "source": [
        "print('What\\'s your name?')"
      ],
      "execution_count": null,
      "outputs": []
    },
    {
      "cell_type": "code",
      "metadata": {
        "id": "j4wMYcGMBAiw"
      },
      "source": [
        "print('This is the first line\\nThis is the second line')"
      ],
      "execution_count": null,
      "outputs": []
    },
    {
      "cell_type": "code",
      "metadata": {
        "id": "U8xuRtIaE8Iu"
      },
      "source": [
        "print('This creates a new tab\\tlol')"
      ],
      "execution_count": null,
      "outputs": []
    },
    {
      "cell_type": "markdown",
      "metadata": {
        "id": "hyHEqYf9HZv9"
      },
      "source": [
        "###**If Else Statements**"
      ]
    },
    {
      "cell_type": "code",
      "metadata": {
        "id": "ho4UxEXfHel6"
      },
      "source": [
        "number = 9\r\n",
        "guess = int(input('Enter an integer less than or equal to 10: '))\r\n",
        "if guess == number:\r\n",
        "  print('Congrats, you guessed it!')\r\n",
        "elif guess <= number:\r\n",
        "  print('It should be higher')\r\n",
        "else:\r\n",
        "  print('It should be lower than that')"
      ],
      "execution_count": null,
      "outputs": []
    },
    {
      "cell_type": "code",
      "metadata": {
        "id": "WyOaV7WRbCtR"
      },
      "source": [
        "value1 = 2\r\n",
        "value2 = 4\r\n",
        "if value1 != value2:\r\n",
        "  if value1 > value2:\r\n",
        "    print(\"Value 1 > value 2\")\r\n",
        "  else:\r\n",
        "    print(\"value 1 < value 2\") "
      ],
      "execution_count": null,
      "outputs": []
    },
    {
      "cell_type": "markdown",
      "metadata": {
        "id": "fRK7xWMyb1Rb"
      },
      "source": [
        "Inline conditionals"
      ]
    },
    {
      "cell_type": "code",
      "metadata": {
        "id": "Ik3P8V4Pb2qp"
      },
      "source": [
        "import random # This adds functions from a module for making random numbers (don't worry, we'll cover this later)\r\n",
        "\r\n",
        "x = (\"heads\" if random.random() > 0.5 else \"tails\")\r\n",
        "print(x)\r\n",
        "\r\n",
        "#Same as\r\n",
        "#if random.random() > 0.5:\r\n",
        "#  x = \"heads\"\r\n",
        "#else:\r\n",
        "#  x = \"tails\""
      ],
      "execution_count": null,
      "outputs": []
    },
    {
      "cell_type": "markdown",
      "metadata": {
        "id": "qKMZKhHriVkA"
      },
      "source": [
        "Pass"
      ]
    },
    {
      "cell_type": "code",
      "metadata": {
        "id": "PP4TNJjYiXMD"
      },
      "source": [
        "x = 6\r\n",
        "if x > 5:\r\n",
        "  pass # Pass acts as a placeholder for the code you will write\r\n",
        "print(x)"
      ],
      "execution_count": null,
      "outputs": []
    },
    {
      "cell_type": "markdown",
      "metadata": {
        "id": "i37c55Tbow1r"
      },
      "source": [
        "###**While Statements**"
      ]
    },
    {
      "cell_type": "code",
      "metadata": {
        "id": "hix4xVFMumTF"
      },
      "source": [
        "i = 0\r\n",
        " \r\n",
        "while i < 10:\r\n",
        "  print(\" i is:\", i)\r\n",
        "  i = i + 1\r\n",
        " \r\n",
        "print(\"we're done!\")"
      ],
      "execution_count": null,
      "outputs": []
    },
    {
      "cell_type": "code",
      "metadata": {
        "id": "eVXef5R7owtg"
      },
      "source": [
        "number = 23\r\n",
        "running = True\r\n",
        "while running:    #while running == True:\r\n",
        "  guess = int(input('Enter an integer : '))\r\n",
        "  if guess == number:\r\n",
        "    print('Congratulations, you guessed it.')  \r\n",
        "    running = False # this causes the while loop to stop\r\n",
        "  elif guess < number:\r\n",
        "    print('No, it is a little higher than that.')\r\n",
        "  else:\r\n",
        "    print('No, it is a little lower than that.')\r\n",
        "else:\r\n",
        "  print('The while loop is over.')\r\n",
        "print('Done')"
      ],
      "execution_count": null,
      "outputs": []
    },
    {
      "cell_type": "code",
      "metadata": {
        "id": "7fXuFqoEuwmo"
      },
      "source": [
        "while True:\r\n",
        "  print('hi')"
      ],
      "execution_count": null,
      "outputs": []
    },
    {
      "cell_type": "markdown",
      "metadata": {
        "id": "nUQrNJukgVMQ"
      },
      "source": [
        "###**Challenge!**"
      ]
    },
    {
      "cell_type": "markdown",
      "metadata": {
        "id": "5tZ4x6YfgicT"
      },
      "source": [
        "Create a program to take input and print out * with the given height.Check if the value is less than 0, then print out “Invalid height” (Example in slides)"
      ]
    },
    {
      "cell_type": "code",
      "metadata": {
        "id": "DdWNPR83gUzP"
      },
      "source": [
        "#Write your code here\r\n"
      ],
      "execution_count": null,
      "outputs": []
    },
    {
      "cell_type": "code",
      "metadata": {
        "id": "zHyDKR3vUm9n"
      },
      "source": [
        "x = int(input('Input an int: '))\r\n",
        "i = 1\r\n",
        "\r\n",
        "if x < 0:\r\n",
        "    print('Invalid height')\r\n",
        "    \r\n",
        "while i < x+1:  \r\n",
        "  print('*'* i)\r\n",
        "  i+=1"
      ],
      "execution_count": null,
      "outputs": []
    }
  ]
}