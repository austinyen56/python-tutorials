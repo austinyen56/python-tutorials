{
  "nbformat": 4,
  "nbformat_minor": 0,
  "metadata": {
    "colab": {
      "name": "L3 For Loops, Functions, and Strings.ipynb",
      "provenance": []
    },
    "kernelspec": {
      "name": "python3",
      "display_name": "Python 3"
    }
  },
  "cells": [
    {
      "cell_type": "markdown",
      "metadata": {
        "id": "EfV79XgZFXOT"
      },
      "source": [
        "## **For Loops, Functions, and String Functions**"
      ]
    },
    {
      "cell_type": "markdown",
      "metadata": {
        "id": "zgk7s_g-Fb-w"
      },
      "source": [
        "*This notebook is based on content from CSE20 (first CS class taken at UCSC). All workshops are recorded [here](https://drive.google.com/drive/folders/1Lg1ZWQ3-NhO-qhgzrpaTK0UvLmiWGukx?usp=sharing).*\r\n",
        "\r\n",
        "*If you have any questions, feel free to contact me via email: ayyen@ucsc.edu*"
      ]
    },
    {
      "cell_type": "markdown",
      "metadata": {
        "id": "7HyHu2abFfO_"
      },
      "source": [
        "#### **Recap From Last Workshop**"
      ]
    },
    {
      "cell_type": "code",
      "metadata": {
        "id": "mYo-nhd1FSKJ"
      },
      "source": [
        "name = 'Austin'\r\n",
        "age = 20\r\n",
        "print('My name is {0} and I am {1} years old'.format(name,age))\r\n",
        "\r\n",
        "print('First line\\nSecond line')\r\n",
        "\r\n",
        "while True:\r\n",
        "  guess = int(input('Guess my age: '))\r\n",
        "  if guess == age:\r\n",
        "    print('You guessed it')\r\n",
        "    break\r\n",
        "  elif guess <age:\r\n",
        "    print('Higher')\r\n",
        "  else:\r\n",
        "    print('Lower')"
      ],
      "execution_count": null,
      "outputs": []
    },
    {
      "cell_type": "markdown",
      "metadata": {
        "id": "s3aMxl0DFgDX"
      },
      "source": [
        "#### **For Loops**"
      ]
    },
    {
      "cell_type": "code",
      "metadata": {
        "id": "ZLbDRSvKFZT6"
      },
      "source": [
        "for i in range(1, 5):\r\n",
        "  print(i)\r\n",
        "else:\r\n",
        "  print('The for loop is over') "
      ],
      "execution_count": null,
      "outputs": []
    },
    {
      "cell_type": "code",
      "metadata": {
        "id": "a-f_mOI_FTCK"
      },
      "source": [
        "# While loop version\r\n",
        "i = 0\r\n",
        "while(i < 10):\r\n",
        "  print(\"i is: \" + str(i))\r\n",
        "  i = i + 1"
      ],
      "execution_count": null,
      "outputs": []
    },
    {
      "cell_type": "code",
      "metadata": {
        "id": "WIvEWdtlFU9O"
      },
      "source": [
        "# The for loop version\r\n",
        "for i in range(10): \r\n",
        "  # Range returns an iteratable sequence from 0 to 10\r\n",
        "  print(\"i is: \" + str(i))  #Why can't we just use + i ??"
      ],
      "execution_count": null,
      "outputs": []
    },
    {
      "cell_type": "code",
      "metadata": {
        "id": "sbo83QkbF9W7"
      },
      "source": [
        "# Jumping two steps at a time\r\n",
        "for i in range(0, 10, 2):   #What if we put a negative value???\r\n",
        "  print(\"i is: \" + str(i))"
      ],
      "execution_count": null,
      "outputs": []
    },
    {
      "cell_type": "code",
      "metadata": {
        "id": "Uj2QOIJxGCpT"
      },
      "source": [
        "# For loops also allow iteration over sequences, such as lists:\r\n",
        "# Note: we'll cover lists in detail later\r\n",
        "for color in [ \"pink\", \"yellow\", \"blue\", \"green\" ]:\r\n",
        "  print(\"My favorite color is now \" + color)"
      ],
      "execution_count": null,
      "outputs": []
    },
    {
      "cell_type": "markdown",
      "metadata": {
        "id": "BLUi_AqtGY5d"
      },
      "source": [
        "Break vs Continue"
      ]
    },
    {
      "cell_type": "code",
      "metadata": {
        "id": "57RUVXjoGa27"
      },
      "source": [
        "#Break\r\n",
        "i = 1\r\n",
        "while True:\r\n",
        "  print(i)\r\n",
        "  i = i + 1\r\n",
        "  if i > 10:\r\n",
        "    break"
      ],
      "execution_count": null,
      "outputs": []
    },
    {
      "cell_type": "code",
      "metadata": {
        "id": "POByaMqzHpJQ"
      },
      "source": [
        "#Continue\r\n",
        "i = 0\r\n",
        "while True:\r\n",
        "  print(i)\r\n",
        "  i = i + 1\r\n",
        "  if i < 5:\r\n",
        "    continue\r\n",
        "  if i >= 10:\r\n",
        "    break"
      ],
      "execution_count": null,
      "outputs": []
    },
    {
      "cell_type": "markdown",
      "metadata": {
        "id": "L-82JWecG-09"
      },
      "source": [
        "Nesting Loops"
      ]
    },
    {
      "cell_type": "code",
      "metadata": {
        "id": "j7v5KuDuGpf7"
      },
      "source": [
        "for i in range(4): #Iterating the code below 4 times (0-3)\r\n",
        "  for j in range(4): \r\n",
        "    print(\"The values are, i: \" + str(i) + \" j: \" + str(j))"
      ],
      "execution_count": null,
      "outputs": []
    },
    {
      "cell_type": "markdown",
      "metadata": {
        "id": "RVx9c-UXPb0s"
      },
      "source": [
        "#### **Functions**"
      ]
    },
    {
      "cell_type": "code",
      "metadata": {
        "id": "hzw488hEPbgb"
      },
      "source": [
        "def say_hello():  #defining the function\r\n",
        "  # block belonging to the function\r\n",
        "  print('hello world')\r\n",
        "# End of function\r\n",
        "say_hello() #Calling the functions"
      ],
      "execution_count": null,
      "outputs": []
    },
    {
      "cell_type": "code",
      "metadata": {
        "id": "HZpl9YSUH9_2"
      },
      "source": [
        "def averageofnums(num1, num2):\r\n",
        "  average = (num1 + num2)/2\r\n",
        "  return average\r\n",
        "\r\n",
        "averageofnums(5,10)\r\n",
        "#Can set a variable to call a funciton output\r\n",
        "#x = averageofnums(10,20)\r\n",
        "#print(x)\r\n",
        "\r\n",
        "#Colab shows return values for some reason so try it on repl.it or an IDE"
      ],
      "execution_count": null,
      "outputs": []
    },
    {
      "cell_type": "markdown",
      "metadata": {
        "id": "s5nvW09YSUjW"
      },
      "source": [
        "Print vs Return"
      ]
    },
    {
      "cell_type": "code",
      "metadata": {
        "id": "6wYxzBffSW2M"
      },
      "source": [
        "def printing():\r\n",
        "    print(5)\r\n",
        "\r\n",
        "def returning():\r\n",
        "    return 7\r\n",
        "\r\n",
        "x = printing() \r\n",
        "y = returning()\r\n",
        "\r\n",
        "print (x) # will show \"None\" because printing() does not return a value\r\n",
        "print (y) # will show \"7\" because \"7\" was output from the returning() function by the return statement."
      ],
      "execution_count": null,
      "outputs": []
    },
    {
      "cell_type": "markdown",
      "metadata": {
        "id": "K5KxUqFlWg6I"
      },
      "source": [
        "Common Mistakes"
      ]
    },
    {
      "cell_type": "code",
      "metadata": {
        "id": "IV2IVhPgWiqn"
      },
      "source": [
        "def sum(x,y):\r\n",
        "  return print(x+y)\r\n",
        "sum(5,10) #Will print value but wont be able to return back to function, bad workflow"
      ],
      "execution_count": null,
      "outputs": []
    },
    {
      "cell_type": "code",
      "metadata": {
        "id": "YfsGjMv0ZIfT"
      },
      "source": [
        "k =10\r\n",
        "def kiloplusone(k):\r\n",
        "  return k + 1\r\n",
        "\r\n",
        "kiloplusone() #Type error; no args (cannot predefine args like in line 1)"
      ],
      "execution_count": null,
      "outputs": []
    },
    {
      "cell_type": "markdown",
      "metadata": {
        "id": "KxRfAmEmWAnE"
      },
      "source": [
        "Local Variables"
      ]
    },
    {
      "cell_type": "code",
      "metadata": {
        "id": "q8PLuo13WBps"
      },
      "source": [
        "x = 50      #x is 50\r\n",
        "def func(x):\r\n",
        "  print('x is', x)    #x is still 50\r\n",
        "  x = 2\r\n",
        "  print('Changed local x to', x)  #x is 2\r\n",
        "func(x)\r\n",
        "print('x is still', x)  #x remains as 50"
      ],
      "execution_count": null,
      "outputs": []
    },
    {
      "cell_type": "markdown",
      "metadata": {
        "id": "9UnYUyNGWCr8"
      },
      "source": [
        "Global Variables"
      ]
    },
    {
      "cell_type": "code",
      "metadata": {
        "id": "jYPXY9s7WEQ7"
      },
      "source": [
        "x = 50  #x is 50\r\n",
        "def func():\r\n",
        "\tglobal x  #defining x to be a global variable\r\n",
        "\tprint('x is', x)  #x is still 50\r\n",
        "\tx = 2\r\n",
        "\tprint('Changed global x to', x)  #x is 2\r\n",
        "func()\r\n",
        "print('Value of x is', x) #x becomes 2"
      ],
      "execution_count": null,
      "outputs": []
    },
    {
      "cell_type": "markdown",
      "metadata": {
        "id": "WaHNxm6rAcyQ"
      },
      "source": [
        "#### **String Functions**"
      ]
    },
    {
      "cell_type": "markdown",
      "metadata": {
        "id": "X19bLrQTA1GP"
      },
      "source": [
        "Characer Encoding"
      ]
    },
    {
      "cell_type": "markdown",
      "metadata": {
        "id": "Pr8u-K4kAYSE"
      },
      "source": [
        "ASCII Table: http://www.asciitable.com/"
      ]
    },
    {
      "cell_type": "code",
      "metadata": {
        "id": "yvL7xRoTA7Xf"
      },
      "source": [
        "print(ord('a'))"
      ],
      "execution_count": null,
      "outputs": []
    },
    {
      "cell_type": "code",
      "metadata": {
        "id": "FOmO29acE5HO"
      },
      "source": [
        "print(chr(97))"
      ],
      "execution_count": null,
      "outputs": []
    },
    {
      "cell_type": "code",
      "metadata": {
        "id": "QHB3J0h3FGWA"
      },
      "source": [
        "print(chr(129315))"
      ],
      "execution_count": null,
      "outputs": []
    },
    {
      "cell_type": "code",
      "metadata": {
        "id": "kVUTWQ0iFK3C"
      },
      "source": [
        "print(chr(20320)+chr(22909))  #Prints out hello in Chinese"
      ],
      "execution_count": null,
      "outputs": []
    },
    {
      "cell_type": "markdown",
      "metadata": {
        "id": "qR8aeDK-A9dK"
      },
      "source": [
        "String Operators"
      ]
    },
    {
      "cell_type": "code",
      "metadata": {
        "id": "_JVg0fgdBK-k"
      },
      "source": [
        "# Concatenate strings\r\n",
        "s = \"Lets\" + \"add\" + \"dem\" + \"strings\"\r\n",
        "print(s)"
      ],
      "execution_count": null,
      "outputs": []
    },
    {
      "cell_type": "code",
      "metadata": {
        "id": "OcKgf955GQNQ"
      },
      "source": [
        "# Multiplying strings\r\n",
        "s = \"Hello\" * 10 \r\n",
        "print(s) "
      ],
      "execution_count": null,
      "outputs": []
    },
    {
      "cell_type": "code",
      "metadata": {
        "id": "9x5P-L86GXjy"
      },
      "source": [
        "# Note this doesn't work\r\n",
        "# What would this even do?\r\n",
        "s = \"You can't\" - \"subtract strings\" \r\n",
        "# Nor does this\r\n",
        "s = \"You can't\" / \"divide strings either\"\r\n",
        "#Can't subtract or divide strings :("
      ],
      "execution_count": null,
      "outputs": []
    },
    {
      "cell_type": "markdown",
      "metadata": {
        "id": "0AnhcJ0xA_Yp"
      },
      "source": [
        "Length Function"
      ]
    },
    {
      "cell_type": "code",
      "metadata": {
        "id": "re5EfVZzBKpX"
      },
      "source": [
        "s = \"A long string\"\r\n",
        "print(len(s))\r\n",
        "# The empty string case\r\n",
        "s = \"\" \r\n",
        "print(len(s))\r\n",
        "# A String with whitespace character (/n, /t)\r\n",
        "s = \"\\t\"\r\n",
        "print(len(s))"
      ],
      "execution_count": null,
      "outputs": []
    },
    {
      "cell_type": "markdown",
      "metadata": {
        "id": "fEbYkr_YBBTh"
      },
      "source": [
        "Split/Join"
      ]
    },
    {
      "cell_type": "code",
      "metadata": {
        "id": "UoA2v29mBKZF"
      },
      "source": [
        "txt = \"apple#banana#cherry#orange\"\r\n",
        "x = txt.split(\"#\")\r\n",
        "print(x)"
      ],
      "execution_count": null,
      "outputs": []
    },
    {
      "cell_type": "code",
      "metadata": {
        "id": "0bP9j-UtPa_q"
      },
      "source": [
        "names = (\"Austin\", \"Emilie\", \"Kiwi\")\r\n",
        "x = \"#\".join(names)\r\n",
        "print(x)"
      ],
      "execution_count": null,
      "outputs": []
    },
    {
      "cell_type": "markdown",
      "metadata": {
        "id": "3-MINt14BEhb"
      },
      "source": [
        "Upper/Lower"
      ]
    },
    {
      "cell_type": "code",
      "metadata": {
        "id": "zBenxshRBKJy"
      },
      "source": [
        "s = \"i Love CoDing IN pYtHon\"\r\n",
        "print(s.upper()) # When you feel like shouting\r\n",
        "\r\n",
        "s = \"LMAOOOOO\" \r\n",
        "print(s.lower()) # The opposite"
      ],
      "execution_count": null,
      "outputs": []
    },
    {
      "cell_type": "markdown",
      "metadata": {
        "id": "eMMXC77yBHA7"
      },
      "source": [
        "Format (just a recap)"
      ]
    },
    {
      "cell_type": "code",
      "metadata": {
        "id": "PWGUHZC4BJzc"
      },
      "source": [
        "name = 'Austin'\r\n",
        "age = 20\r\n",
        "print('My name is {0} and I am {1} years old'.format(name,age))"
      ],
      "execution_count": null,
      "outputs": []
    },
    {
      "cell_type": "markdown",
      "metadata": {
        "id": "EBAY43nTc7hl"
      },
      "source": [
        "Immutability"
      ]
    },
    {
      "cell_type": "code",
      "metadata": {
        "id": "gbh1tP8Wc9di"
      },
      "source": [
        "s = \"Hello\"\r\n",
        "print(s[0])\r\n",
        "s[0]='B'\r\n",
        "\r\n",
        "#Strings are immutable!"
      ],
      "execution_count": null,
      "outputs": []
    },
    {
      "cell_type": "markdown",
      "metadata": {
        "id": "DWUBn74gTGen"
      },
      "source": [
        "Challenge!! (Fill in the code)"
      ]
    },
    {
      "cell_type": "code",
      "metadata": {
        "id": "-ZTjN3JbTGLE"
      },
      "source": [
        "x = int(input(\"Please enter an integer: \"))\r\n",
        "y = int(input(\"Please enter a larger integer: \"))\r\n",
        "\r\n",
        "# Finish writing the following function using a for loop\r\n",
        "def sumOddNumbersInRange(x, y):\r\n",
        "  \"\"\"A function to calculate the sum of odd numbers from x \r\n",
        "  (including x) to y (excluding y) return the result\r\n",
        "  e.g. if x = 4 and y = 9 then the result is 5 + 7 = 12 \r\n",
        "  \"\"\"\r\n",
        "  assert y > x # Check the input arguments to the function is okay \r\n",
        "  z = 0\r\n",
        "  #Create the for loop here      \r\n",
        "  return z\r\n",
        "\r\n",
        "print(\"The sum of odd integers from: \", x, \" up to: \", y, \" is: \", \r\n",
        "      sumOddNumbersInRange(x, y))"
      ],
      "execution_count": null,
      "outputs": []
    },
    {
      "cell_type": "markdown",
      "metadata": {
        "id": "3FcEf0LyGaLC"
      },
      "source": [
        "Visualize Python:\r\n",
        "http://www.pythontutor.com/visualize.html#mode=edit"
      ]
    }
  ]
}