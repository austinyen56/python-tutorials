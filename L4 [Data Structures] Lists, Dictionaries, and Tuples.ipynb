{
  "nbformat": 4,
  "nbformat_minor": 0,
  "metadata": {
    "colab": {
      "name": "L4 [Data Structures] Lists, Dictionaries, and Tuples.ipynb",
      "provenance": []
    },
    "kernelspec": {
      "name": "python3",
      "display_name": "Python 3"
    }
  },
  "cells": [
    {
      "cell_type": "markdown",
      "metadata": {
        "id": "As7DhGqGdc8_"
      },
      "source": [
        "## **[Data Structures] Lists, Dictionaries, and Tuples**"
      ]
    },
    {
      "cell_type": "markdown",
      "metadata": {
        "id": "eKeGKouudj5v"
      },
      "source": [
        "*This notebook is based on content from CSE20 (first CS class taken at UCSC). All workshops are recorded [here](https://drive.google.com/drive/folders/1Lg1ZWQ3-NhO-qhgzrpaTK0UvLmiWGukx?usp=sharing).*\r\n",
        "\r\n",
        "*If you have any questions, feel free to contact me via email: ayyen@ucsc.edu*"
      ]
    },
    {
      "cell_type": "markdown",
      "metadata": {
        "id": "iIgyN64zdnlk"
      },
      "source": [
        "#### **Recap From Last Workshop**"
      ]
    },
    {
      "cell_type": "code",
      "metadata": {
        "id": "bxbnioCDdRNG"
      },
      "source": [
        "def recap():\r\n",
        "  fruits = (\"apple\", \"banana\", \"cherry\")\r\n",
        "  for x in fruits:\r\n",
        "    print(x)\r\n",
        "    if x == \"banana\":\r\n",
        "      print(chr(127820))\r\n",
        "      break\r\n",
        "recap()"
      ],
      "execution_count": null,
      "outputs": []
    },
    {
      "cell_type": "markdown",
      "metadata": {
        "id": "RJtQen-doeai"
      },
      "source": [
        "#### **Lists**"
      ]
    },
    {
      "cell_type": "code",
      "metadata": {
        "id": "Bq-6uG-baLay"
      },
      "source": [
        "#Creating lists\r\n",
        "#list()\r\n",
        "l = []\r\n",
        "print(l)\r\n",
        "\r\n",
        "shoplist = ['apple', 'carrot', 'mango', 'banana']\r\n",
        "print(shoplist)     #Prints the list\r\n",
        "print(type(shoplist))"
      ],
      "execution_count": null,
      "outputs": []
    },
    {
      "cell_type": "code",
      "metadata": {
        "id": "KwxrNF5DKRK-"
      },
      "source": [
        "print(len(shoplist))    #Prints the length of the list"
      ],
      "execution_count": null,
      "outputs": []
    },
    {
      "cell_type": "code",
      "metadata": {
        "id": "J5f_GMa2KQ1B"
      },
      "source": [
        "shoplist.sort()\r\n",
        "print(shoplist)       #Prints sorted list\r\n",
        "print(sorted(shoplist))   #Works the same"
      ],
      "execution_count": null,
      "outputs": []
    },
    {
      "cell_type": "code",
      "metadata": {
        "id": "JLT-lxDWKTrC"
      },
      "source": [
        "shoplist.append('kiwi')\r\n",
        "print(shoplist)       #Prints list with kiwi added at the end"
      ],
      "execution_count": null,
      "outputs": []
    },
    {
      "cell_type": "code",
      "metadata": {
        "id": "ONdEVlaeKT6_"
      },
      "source": [
        "shoplist.remove('carrot')   #Prints list with carrot removed\r\n",
        "print(shoplist)"
      ],
      "execution_count": null,
      "outputs": []
    },
    {
      "cell_type": "code",
      "metadata": {
        "id": "EagwHP0KKUm6"
      },
      "source": [
        "shoplist.append(3)      #Prints list with number (lists can mix element types)\r\n",
        "print(shoplist)"
      ],
      "execution_count": null,
      "outputs": []
    },
    {
      "cell_type": "code",
      "metadata": {
        "id": "PoQvwv8cKVAU"
      },
      "source": [
        "shoplist.insert(1,'something')  #Insert something (index, value)\r\n",
        "print(shoplist)"
      ],
      "execution_count": null,
      "outputs": []
    },
    {
      "cell_type": "code",
      "metadata": {
        "id": "ZC0V9OfYLAFU"
      },
      "source": [
        "shoplist.append('something')  #Can have duplicates\r\n",
        "print(shoplist)"
      ],
      "execution_count": null,
      "outputs": []
    },
    {
      "cell_type": "markdown",
      "metadata": {
        "id": "Y2yChpMZE5RE"
      },
      "source": [
        "List Comprehension"
      ]
    },
    {
      "cell_type": "code",
      "metadata": {
        "id": "q6hwhJnXE7J1"
      },
      "source": [
        "x = [\"a\", 1, 2, \"list\"]\r\n",
        "# Makes a new list, l, containing only the strings in x\r\n",
        "l = [i for i in x if type(i) == str] \r\n",
        "print(l)"
      ],
      "execution_count": null,
      "outputs": []
    },
    {
      "cell_type": "code",
      "metadata": {
        "id": "pbtkP0PeGB0b"
      },
      "source": [
        "#Quick practice:\r\n",
        "fruits = [\"apple\", \"banana\", \"cherry\", \"kiwi\", \"mango\"]\r\n",
        "#Create a list comprehension 'newfruitslist' that contains the values if theres is the letter 'a'\r\n",
        "newfruitslist = [#insert code here]\r\n",
        "\r\n",
        "print(newfruitslist)\r\n",
        "#prints ['apple', 'banana', 'mango'] because they contain the letter 'a'"
      ],
      "execution_count": null,
      "outputs": []
    },
    {
      "cell_type": "markdown",
      "metadata": {
        "id": "e6YgiArYY7KX"
      },
      "source": [
        "Indexing"
      ]
    },
    {
      "cell_type": "code",
      "metadata": {
        "id": "ymDGyz12SXGZ"
      },
      "source": [
        "shoplist = ['a', 'b', 'c', 'd', 'e', 'f', 'g', 'h', 'i']"
      ],
      "execution_count": null,
      "outputs": []
    },
    {
      "cell_type": "code",
      "metadata": {
        "id": "f2amZvCWUaQK"
      },
      "source": [
        "print(shoplist[0])"
      ],
      "execution_count": null,
      "outputs": []
    },
    {
      "cell_type": "code",
      "metadata": {
        "id": "NcPdDMc9SXDj"
      },
      "source": [
        "shoplist[0]= 'pear'   #Lists are mutable!\r\n",
        "print(shoplist)"
      ],
      "execution_count": null,
      "outputs": []
    },
    {
      "cell_type": "code",
      "metadata": {
        "id": "wb1nrbufST-9"
      },
      "source": [
        "del shoplist[0]\r\n",
        "print(shoplist)"
      ],
      "execution_count": null,
      "outputs": []
    },
    {
      "cell_type": "code",
      "metadata": {
        "id": "4fNRLcesST7q"
      },
      "source": [
        "print(shoplist[-1])"
      ],
      "execution_count": null,
      "outputs": []
    },
    {
      "cell_type": "code",
      "metadata": {
        "id": "mwhS1bGNST48"
      },
      "source": [
        "print(shoplist[:])\r\n",
        "#same thing as\r\n",
        "print(shoplist)"
      ],
      "execution_count": null,
      "outputs": []
    },
    {
      "cell_type": "code",
      "metadata": {
        "id": "_tBAlpaCSTzv"
      },
      "source": [
        "print(shoplist[1:])"
      ],
      "execution_count": null,
      "outputs": []
    },
    {
      "cell_type": "code",
      "metadata": {
        "id": "iHESxnDSSTps"
      },
      "source": [
        "print(shoplist[1:3])"
      ],
      "execution_count": null,
      "outputs": []
    },
    {
      "cell_type": "code",
      "metadata": {
        "id": "FjO6G4kqU5PL"
      },
      "source": [
        "print(shoplist[::2])"
      ],
      "execution_count": null,
      "outputs": []
    },
    {
      "cell_type": "code",
      "metadata": {
        "id": "_55Br9VVV6FZ"
      },
      "source": [
        "print(shoplist[-2:-5:-1]) #Remember: [start:finish:interval(optional)]"
      ],
      "execution_count": null,
      "outputs": []
    },
    {
      "cell_type": "markdown",
      "metadata": {
        "id": "bY3QAZuEWmjh"
      },
      "source": [
        "If you are trying to understand the concept of indexing, I recommend checking out this website https://towardsdatascience.com/the-basics-of-indexing-and-slicing-python-lists-2d12c90a94cf"
      ]
    },
    {
      "cell_type": "markdown",
      "metadata": {
        "id": "NFVJf8u7onV4"
      },
      "source": [
        "#### **Tuples**"
      ]
    },
    {
      "cell_type": "code",
      "metadata": {
        "id": "xtFoutEHopDR"
      },
      "source": [
        "#Creating tuples\r\n",
        "x = (\"Oxnard\", 2021)\r\n",
        "print(type(x))\r\n",
        "\r\n",
        "y = (1,)\r\n",
        "print(type(y))  #Tuples with a length of 1\r\n",
        "\r\n",
        "z = (1)   #Is this a tuple?"
      ],
      "execution_count": null,
      "outputs": []
    },
    {
      "cell_type": "code",
      "metadata": {
        "id": "lB4HOm395nj_"
      },
      "source": [
        "print(type(z))"
      ],
      "execution_count": null,
      "outputs": []
    },
    {
      "cell_type": "code",
      "metadata": {
        "id": "PJUp-G028D1K"
      },
      "source": [
        "x.count(2021) #How many times 2021 is in the tuple"
      ],
      "execution_count": null,
      "outputs": []
    },
    {
      "cell_type": "code",
      "metadata": {
        "id": "l4ayB8yFF1I3"
      },
      "source": [
        "x = (\"a\", \"sequence\", \"of\", \"strings\")\r\n",
        "x[0] = \"the\" # Error"
      ],
      "execution_count": null,
      "outputs": []
    },
    {
      "cell_type": "code",
      "metadata": {
        "id": "D2UnmI_aGUO_"
      },
      "source": [
        "# To make edited tuples from existing tuples you therefore slice and dice them \r\n",
        "print((\"the\",) + x[1:])"
      ],
      "execution_count": null,
      "outputs": []
    },
    {
      "cell_type": "code",
      "metadata": {
        "id": "hiAJuO0dGc-O"
      },
      "source": [
        "#Check if a value is in the tuple (works for lists too!)\r\n",
        "5 in (1, 2, 3, 4, 5, 6)\r\n",
        "#5 not in (1, 2, 3, 4, 5, 6)"
      ],
      "execution_count": null,
      "outputs": []
    },
    {
      "cell_type": "code",
      "metadata": {
        "id": "WG-xIDwVHHFd"
      },
      "source": [
        "# Another way of using tuples is swapping/ assigning variable values\r\n",
        "(x, y) = (5, 10)\r\n",
        "print(x, y)"
      ],
      "execution_count": null,
      "outputs": []
    },
    {
      "cell_type": "code",
      "metadata": {
        "id": "nExMH8wQHpBq"
      },
      "source": [
        "#IRL example\r\n",
        "martin = ('Martin', 'Garrix', 1996, 'Keygen', 2012, 'producer', 'Amsterdam, Netherlands')\r\n",
        "(name, surname, b_year, song, year_released, profession, born_place) = martin #Cant do opposite or else theres gonna be an error\r\n",
        "\r\n",
        "print(name, surname)\r\n",
        "print(name, surname, 'is a',profession ,'born in', born_place,\"\\nHe made his first song\",song,\"in\",year_released)"
      ],
      "execution_count": null,
      "outputs": []
    },
    {
      "cell_type": "code",
      "metadata": {
        "id": "g855SYgiIQ2y"
      },
      "source": [
        "# The values in a tuple can be any legit Python object.\r\n",
        "# So you can make complex nested (tree like objects)\r\n",
        "\r\n",
        "martin_more_info = ((\"Martin\",\"Garrix\"), (14, \"May\", 1996), \"Producer\", (\"Amsterdam\", \"Netherlands\"),\r\n",
        "                    [(\"Keygen\", 2012),\r\n",
        "                     (\"Error 404\", 2013),\r\n",
        "                     (\"Animals\", 2013),\r\n",
        "                     (\"Wizard\", 2013),\r\n",
        "                     (\"Helicopter\", 2013),\r\n",
        "                     (\"Turn Up the Speakers\", 2014),\r\n",
        "                     (\"Bouncybob\", 2015),\r\n",
        "                     (\"In the Name of Love\", 2016),\r\n",
        "                     (\"Scared to Be Lonely\", 2017)])\r\n",
        "\r\n",
        "name, birthday, profession, birth_place, some_songs = martin_more_info\r\n",
        "print(some_songs)\r\n",
        "songName, year = some_songs[4]\r\n",
        "print(songName, year)\r\n"
      ],
      "execution_count": null,
      "outputs": []
    },
    {
      "cell_type": "markdown",
      "metadata": {
        "id": "2icM3Aj5opP0"
      },
      "source": [
        "#### **Dictionaries**"
      ]
    },
    {
      "cell_type": "code",
      "metadata": {
        "id": "aWNiR0IJotf7"
      },
      "source": [
        "#Creating dictionaries\r\n",
        "englishDictionary = {}\r\n",
        "englishDictionary['one'] = 1\r\n",
        "englishDictionary['two'] = 2\r\n",
        "\r\n",
        "print(englishDictionary)\r\n",
        "\r\n",
        "nameDictionary = {\"Yen\":\"Austin\", \"Nguyen\":\"Jenisa\", \"Chongsathapornpong\":\"Jade\"}\r\n",
        "\r\n",
        "print(nameDictionary)\r\n",
        "print(type(nameDictionary))"
      ],
      "execution_count": null,
      "outputs": []
    },
    {
      "cell_type": "code",
      "metadata": {
        "id": "WrF9vx3TVRMQ"
      },
      "source": [
        "print(nameDictionary.keys())"
      ],
      "execution_count": null,
      "outputs": []
    },
    {
      "cell_type": "code",
      "metadata": {
        "id": "c5rB4-7EVR-X"
      },
      "source": [
        "print(nameDictionary.values())"
      ],
      "execution_count": null,
      "outputs": []
    },
    {
      "cell_type": "code",
      "metadata": {
        "id": "Xa9jFek1VgEH"
      },
      "source": [
        "print(nameDictionary.get('Yen'))"
      ],
      "execution_count": null,
      "outputs": []
    },
    {
      "cell_type": "code",
      "metadata": {
        "id": "_pqjar69VnH_"
      },
      "source": [
        "print(len(nameDictionary))"
      ],
      "execution_count": null,
      "outputs": []
    },
    {
      "cell_type": "code",
      "metadata": {
        "id": "lPyWzZSWVq9C"
      },
      "source": [
        "#What if I want to add Emilie into the dictonary (element with same last name)\r\n",
        "nameDictionary[\"Yen\"] = \"Emilie\" \r\n",
        "#print(nameDictionary)"
      ],
      "execution_count": null,
      "outputs": []
    },
    {
      "cell_type": "code",
      "metadata": {
        "id": "ucqXmTrQt_0Y"
      },
      "source": [
        "nameDictionary.update({\"Musk\": \"Elon\"})\r\n",
        "print(nameDictionary)"
      ],
      "execution_count": null,
      "outputs": []
    },
    {
      "cell_type": "code",
      "metadata": {
        "id": "ErJgugBcvHU3"
      },
      "source": [
        "nameDictionary.pop('Musk')\r\n",
        "print(nameDictionary)"
      ],
      "execution_count": null,
      "outputs": []
    },
    {
      "cell_type": "markdown",
      "metadata": {
        "id": "kaZ_HIFB1lZJ"
      },
      "source": [
        "Dictionary Comprehension"
      ]
    },
    {
      "cell_type": "code",
      "metadata": {
        "id": "oHzGf1Xe0puv"
      },
      "source": [
        "print({i : chr(65+i) for i in range(4)})"
      ],
      "execution_count": null,
      "outputs": []
    },
    {
      "cell_type": "code",
      "metadata": {
        "id": "tvIMNUmZ1pTj"
      },
      "source": [
        "list_of_email_addrs = ['idk@gmail.com','troll@gmail.com','python@gmail.com']\r\n",
        "print({x.lower() : 1 for x in list_of_email_addrs})"
      ],
      "execution_count": null,
      "outputs": []
    },
    {
      "cell_type": "code",
      "metadata": {
        "id": "RLR3MHAQeRoj"
      },
      "source": [
        "#IRL Example (.json object or settings file for database)\r\n",
        "DATABASES = {\r\n",
        "    'default': {\r\n",
        "        'ENGINE': 'django.db.backends.postgresql',\r\n",
        "        'NAME': 'mydatabase',\r\n",
        "        'USER': 'mydatabaseuser',\r\n",
        "        'PASSWORD': 'mypassword',\r\n",
        "        'HOST': '127.0.0.1',\r\n",
        "        'PORT': '5432',\r\n",
        "    },\r\n",
        "    'more_info': {\r\n",
        "        'AUTHOR': 'Austin Yen',\r\n",
        "        'LICENSE': 'ISC',\r\n",
        "        \"dependencies\": {           #Nested dictionary\r\n",
        "        \"discord.js\": \"^11.6.3\",\r\n",
        "        \"dotenv\": \"^8.2.0\",\r\n",
        "        \"quick.db\": \"^7.0.0-b22\"\r\n",
        "        }\r\n",
        "    }\r\n",
        "}\r\n",
        "print(DATABASES.get('more_info'))"
      ],
      "execution_count": null,
      "outputs": []
    },
    {
      "cell_type": "markdown",
      "metadata": {
        "id": "aKdWbD5ahQwU"
      },
      "source": [
        "For more examples: \r\n",
        "https://docs.djangoproject.com/en/1.11/ref/settings/#databases   \r\n",
        "\r\n",
        "https://birdie0.github.io/discord-webhooks-guide/json.html"
      ]
    },
    {
      "cell_type": "markdown",
      "metadata": {
        "id": "9xmD1T4SqIMw"
      },
      "source": [
        "Looking up items in a Python dictionary is much faster than looking up items in a Python list.\r\n",
        "\r\n",
        "Lookups in lists are O(n)(Linear time), lookups in dictionaries O(1)(Constant time)\r\n",
        "\r\n",
        "https://www.jessicayung.com/python-lists-vs-dictionaries-the-space-time-tradeoff/"
      ]
    },
    {
      "cell_type": "markdown",
      "metadata": {
        "id": "Nfc_SAH3pmdO"
      },
      "source": [
        "![ramalho_dictssetslists1.webp](data:image/webp;base64,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)"
      ]
    },
    {
      "cell_type": "code",
      "metadata": {
        "id": "T7r1xWqkv2Li",
        "colab": {
          "base_uri": "https://localhost:8080/"
        },
        "outputId": "95d78290-765d-4b6d-f321-9b608053852e"
      },
      "source": [
        "import datetime\r\n",
        "listspd = ['a', 'b', 'c', 'd', 'e', 'f', 'g', 'h', 'i', 'j', 'k', 'l', 'm', 'n', 'o', 'p', 'q', 'r', 's', 't', 'u', 'v', 'w', 'x', 'y', 'z', '{', '|', '}', '~']\r\n",
        "#print({chr(97+i) : 1 for i in range(30)})\r\n",
        "dictspd = {'a': 1, 'b': 1, 'c': 1, 'd': 1, 'e': 1, 'f': 1, 'g': 1, 'h': 1, 'i': 1, 'j': 1, 'k': 1, 'l': 1, 'm': 1, 'n': 1, 'o': 1, 'p': 1, 'q': 1, 'r': 1, 's': 1, 't': 1, 'u': 1, 'v': 1, 'w': 1, 'x': 1, 'y': 1, 'z': 1, '{': 1, '|': 1, '}': 1, '~': 1}\r\n",
        "#print([chr(97+x) for x in range(30)])\r\n",
        "searchChr = '~'\r\n",
        "\r\n",
        "start = datetime.datetime.now()\r\n",
        "for i in listspd:\r\n",
        "    if searchChr in i:\r\n",
        "      break\r\n",
        "finish = datetime.datetime.now()\r\n",
        "print(finish-start)\r\n",
        "\r\n",
        "start = datetime.datetime.now()\r\n",
        "dictspd[searchChr]\r\n",
        "finish = datetime.datetime.now()\r\n",
        "print(finish-start)"
      ],
      "execution_count": 25,
      "outputs": [
        {
          "output_type": "stream",
          "text": [
            "0:00:00.000056\n",
            "0:00:00.000034\n"
          ],
          "name": "stdout"
        }
      ]
    },
    {
      "cell_type": "markdown",
      "metadata": {
        "id": "PED2FFrwot1o"
      },
      "source": [
        "#### **Sets**"
      ]
    },
    {
      "cell_type": "code",
      "metadata": {
        "id": "7HAYdsJnovzr"
      },
      "source": [
        "#Creating a set\r\n",
        "x = set([\"Internet\", \"Radio\", \"TV\"])\r\n",
        "print(x)\r\n",
        "y = {\"Internet\",\"Radio\",\"TV\"}\r\n",
        "print(y)\r\n",
        "print(type(x),type(y))"
      ],
      "execution_count": null,
      "outputs": []
    },
    {
      "cell_type": "code",
      "metadata": {
        "id": "x2JpvTDv5PBU"
      },
      "source": [
        "y = {\"Internet\",\"Radio\",\"Internet\",\"TV\"} #Only containst unique values\r\n",
        "print(y)"
      ],
      "execution_count": null,
      "outputs": []
    },
    {
      "cell_type": "code",
      "metadata": {
        "id": "jYspeSFF2hOo"
      },
      "source": [
        "x = set([1, 2, 3, 4, 4])\r\n",
        "y = set([2, 3, 5, 6, 7])\r\n",
        "\r\n",
        "u = x.union(y)\r\n",
        "print(u)\r\n",
        "\r\n",
        "i = x.intersection(y)\r\n",
        "print(i)\r\n",
        "\r\n",
        "d = x.difference(y)\r\n",
        "print(d)"
      ],
      "execution_count": null,
      "outputs": []
    },
    {
      "cell_type": "markdown",
      "metadata": {
        "id": "fcFN5H9L7whM"
      },
      "source": [
        "Visuals on how discrete math uses sets: https://www.probabilitycourse.com/chapter1/1_2_2_set_operations.php"
      ]
    },
    {
      "cell_type": "markdown",
      "metadata": {
        "id": "lPSeeKJWoxBB"
      },
      "source": [
        "#### **Challenge!**"
      ]
    },
    {
      "cell_type": "code",
      "metadata": {
        "id": "F4BDtmWo2s52"
      },
      "source": [
        "# Write function to count the number of characters (character frequency) in a string and stores it in a dictionary.\r\n",
        "# Example is shown in the slides\r\n",
        "\r\n",
        "def char_frequency(string):\r\n",
        "  # Write your code here\r\n",
        "\r\n",
        "print(char_frequency(\"hello\"))\r\n",
        "#Should print {'h': 1, 'e': 1, 'l': 2, 'o': 1}"
      ],
      "execution_count": null,
      "outputs": []
    }
  ]
}