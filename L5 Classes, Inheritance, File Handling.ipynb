{
  "nbformat": 4,
  "nbformat_minor": 0,
  "metadata": {
    "colab": {
      "name": "L5 Classes, Inheritance, File Handling.ipynb",
      "provenance": []
    },
    "kernelspec": {
      "name": "python3",
      "display_name": "Python 3"
    }
  },
  "cells": [
    {
      "cell_type": "markdown",
      "metadata": {
        "id": "ctMOjhERM42_"
      },
      "source": [
        "## **Classes, Inheritance, File Handling**"
      ]
    },
    {
      "cell_type": "markdown",
      "metadata": {
        "id": "4MB1VNh4M7DJ"
      },
      "source": [
        "*This notebook is based on content from CSE20 (first CS class taken at UCSC). All workshops are recorded [here](https://drive.google.com/drive/folders/1Lg1ZWQ3-NhO-qhgzrpaTK0UvLmiWGukx?usp=sharing).*\n",
        "\n",
        "*If you have any questions, feel free to contact me via email: ayyen@ucsc.edu*"
      ]
    },
    {
      "cell_type": "markdown",
      "metadata": {
        "id": "PE_e2NS7M90w"
      },
      "source": [
        "#### **Recap From Last Workshop**"
      ]
    },
    {
      "cell_type": "markdown",
      "metadata": {
        "id": "47Mjxowk4qS5"
      },
      "source": [
        "*   **Lists:** Ordered and changable, allows duplicates\n",
        "\n",
        "*   **Tuple:** Ordered and unchgangable, allows duplicates\n",
        "\n",
        "*   **Set:** Unordered and not indexed, no duplicates\n",
        "\n",
        "*   **Dictionary:** Unordered and changable, no duplicates\n"
      ]
    },
    {
      "cell_type": "code",
      "metadata": {
        "id": "E9wgQ460M6wf"
      },
      "source": [
        "l = ['a','b','c']\n",
        "for i in l:\n",
        "  print(i)\n",
        "\n",
        "#t = (1,1,1,1,1)\n",
        "#t.count(1)\n",
        "#t[0] = 2\n",
        "#print(t)  #Can't assign stuff to a tuple\n",
        "\n",
        "d = {\"Yummi\":\"Cat\", \"Nasus\":\"Dog\", \"Khazix\":\"Bug\", \"Diana\":\"Human\", \"Diana\": \"Moongoddess\"}\n",
        "print(d)\n",
        "d.update({\"Yasuo\": \"Cancer\"})\n",
        "print(d)\n",
        "print(d.get('Khazix'))\n",
        "print(d.get('Diana'))\n",
        "\n",
        "s = set(d)\n",
        "print(s)\n",
        "print(type(s))"
      ],
      "execution_count": null,
      "outputs": []
    },
    {
      "cell_type": "markdown",
      "metadata": {
        "id": "iMiR9zrP7qgu"
      },
      "source": [
        "#### **Objects**"
      ]
    },
    {
      "cell_type": "markdown",
      "metadata": {
        "id": "nyocTqw1LxiK"
      },
      "source": [
        "Python is an object oriented programming language\n",
        "\n",
        "Most things in Python is an object, containing its properties/data and methods\n",
        "\n",
        "Examples are provided in the slides! Be sure to check them out if you are confused with this concept :)"
      ]
    },
    {
      "cell_type": "code",
      "metadata": {
        "id": "1kkHsNzBMbK6"
      },
      "source": [
        "# An object is an instance of a type\n",
        "1234 # Is an instance of an int\n",
        "'Hello' # String\n",
        "{'CA': 'Cali', 'TX': 'Texas'} # Dict\n",
        "3.14159 # Float\n",
        "[2,3,5,7] # List"
      ],
      "execution_count": null,
      "outputs": []
    },
    {
      "cell_type": "markdown",
      "metadata": {
        "id": "KAKQezX_MWu3"
      },
      "source": [
        "#### **Class**"
      ]
    },
    {
      "cell_type": "code",
      "metadata": {
        "id": "Mk0t7rbXM4Xx"
      },
      "source": [
        "# Creating an empty class, remember to use the \"class\" keyword!\n",
        "class EmptyClass:\n",
        "  pass"
      ],
      "execution_count": null,
      "outputs": []
    },
    {
      "cell_type": "code",
      "metadata": {
        "id": "crR4RoymNHZt"
      },
      "source": [
        "# Simple example\n",
        "# Use . to call the object in a class\n",
        "class myClass:\n",
        "    x = 5\n",
        "    \n",
        "p = myClass()\n",
        "print(p.x)\n",
        "# What will this print?"
      ],
      "execution_count": null,
      "outputs": []
    },
    {
      "cell_type": "markdown",
      "metadata": {
        "id": "2ku5t0iqNhFn"
      },
      "source": [
        "____ init ____() function (Sorry with the formatting on colab xdd)"
      ]
    },
    {
      "cell_type": "code",
      "metadata": {
        "id": "M4Tr7ZztNycN"
      },
      "source": [
        "# Create a class with a simple function\n",
        "class Champion:\n",
        "  patch_note = 11.5\n",
        "  def __init__(self, name, gender, type, region):\n",
        "    self.name = name\n",
        "    self.gender = gender\n",
        "    self.type = type\n",
        "    self.region = region\n",
        "\n",
        "  def printfunc(self):\n",
        "    print(\"The champion's name is\",self.name, \"and\", self.gender, \"is a\", self.type, \"from\", self.region)\n",
        "\n",
        "cancer = Champion(\"Yasuo\", \"he\", \"human\", \"Ionia\")\n",
        "cancer.printfunc()\n",
        "egrill = Champion(\"Lux\", \"she\", \"human\", \"Demacia\")\n",
        "egrill.printfunc()"
      ],
      "execution_count": null,
      "outputs": []
    },
    {
      "cell_type": "markdown",
      "metadata": {
        "id": "cejIwxE7VCn1"
      },
      "source": [
        "Object vs class variables"
      ]
    },
    {
      "cell_type": "code",
      "metadata": {
        "id": "1IRNMgFMU7-v"
      },
      "source": [
        "# Object variables (Defined by constructor that's unique to the object)\n",
        "birb = Champion(\"Azir\", \"he\", \"bird\", \"Shurima\")\n",
        "print(birb.name)\n",
        "print(cancer.name)"
      ],
      "execution_count": null,
      "outputs": []
    },
    {
      "cell_type": "code",
      "metadata": {
        "id": "LbfP3qVZour6"
      },
      "source": [
        "# Class variable (variable shared by all objects)\n",
        "Champion.patch_note = 11.6  # Both object and class variables are changable\n",
        "print(Champion.patch_note)"
      ],
      "execution_count": null,
      "outputs": []
    },
    {
      "cell_type": "markdown",
      "metadata": {
        "id": "IDEsjtT22KQc"
      },
      "source": [
        "Modifier Methods"
      ]
    },
    {
      "cell_type": "code",
      "metadata": {
        "id": "mavH2MqW9qJj"
      },
      "source": [
        "class Duskblade:\n",
        "  def __init__(self, attackDamage=60, abilityHaste=20, passive=65):\n",
        "    self.ad = attackDamage\n",
        "    self.ah = abilityHaste\n",
        "    self.passive = passive\n",
        "\n",
        "  def scaling(self, level, mythicItems):\n",
        "    # Lets assume you get +1 AD per level\n",
        "    # Total ability haste is calculated by 20 + 5* number of mythic items\n",
        "    # Total passive damage is calculated by 65 + 25% AD\n",
        "    self.ad += level\n",
        "    self.ah += 5*mythicItems\n",
        "    self.passive += self.ad * 0.25\n",
        "\n",
        "d = Duskblade()\n",
        "d.scaling(18,3)   # Lets say I'm lvl 18 and have 3 mythic items\n",
        "print(d.ad)   # 60+18 = 78\n",
        "print(d.ah)   # 20+ 15 = 35\n",
        "print(d.passive) # 65+19.5 = 84.5"
      ],
      "execution_count": null,
      "outputs": []
    },
    {
      "cell_type": "markdown",
      "metadata": {
        "id": "hev6VigFkW31"
      },
      "source": [
        "#### **Inheritance**"
      ]
    },
    {
      "cell_type": "markdown",
      "metadata": {
        "id": "2-aO5KVWlEKW"
      },
      "source": [
        "Inheritance allows us to define a class that uses things from other classes"
      ]
    },
    {
      "cell_type": "code",
      "metadata": {
        "id": "Ebm5xxxukY31"
      },
      "source": [
        "class Player:\n",
        "  def __init__(self, username, ingameName):\n",
        "    self.username = username\n",
        "    self.ign = ingameName\n",
        "\n",
        "  def printname(self):\n",
        "    print(\"The player's username is \",self.username,\"\\nAnd his in game name is \",self.ign)\n",
        "\n",
        "#Use the Person class to create an object, and then execute the printname method:\n",
        "x = Player(\"idkusername\", \"Khacroach\")\n",
        "x.printname()"
      ],
      "execution_count": null,
      "outputs": []
    },
    {
      "cell_type": "code",
      "metadata": {
        "id": "-vGiXoYWpGud"
      },
      "source": [
        "# If we want to inherit the properties of the Player class into another class\n",
        "# We can use the pass keyword when you dont want to make any changes to the class\n",
        "class Jungler(Player):\n",
        "  pass\n",
        "x = Jungler(\"idkusername2\", \"YasuojgOP\")\n",
        "x.printname()   # Notice how I used .printname() which was defined in the Player class"
      ],
      "execution_count": null,
      "outputs": []
    },
    {
      "cell_type": "code",
      "metadata": {
        "id": "TgyTP6MgqJaX"
      },
      "source": [
        "# Ok, lets say we wanna make some changes\n",
        "class Jungler(Player):\n",
        "  def __init__(self,username,ingameName,main,rank):\n",
        "    # Add properties here (It will override the Player class __init__)\n",
        "    super().__init__(username,ingameName)   # Takes data from Player class\n",
        "    self.main = main          # Adding new data\n",
        "    self.rank = rank\n",
        "  def printdata(self):\n",
        "    print(\"Username: \",self.username,\"\\nIGN: \",self.ign,\"\\nMain: \",self.main,\"\\nRank: \",self.rank,)\n",
        "x = Jungler(\"austin56\", \"Khacroach\", \"Khazix\",\"Gold\")\n",
        "x.printdata()"
      ],
      "execution_count": null,
      "outputs": []
    },
    {
      "cell_type": "markdown",
      "metadata": {
        "id": "9tLuIYckvl9m"
      },
      "source": [
        "More about inheritance and super classes\n",
        "\n",
        "https://realpython.com/python-super/\n",
        "\n",
        "*Due to time limitiations, I won't be covering polymorphism (having same function name but can be used for different types \n",
        "\n",
        "[ex: len()]). But let me know if you are interested in it and I can provided resources for it! (L15)"
      ]
    },
    {
      "cell_type": "markdown",
      "metadata": {
        "id": "i1iDPv9uxmON"
      },
      "source": [
        "#### **File Handling**"
      ]
    },
    {
      "cell_type": "markdown",
      "metadata": {
        "id": "3428nfst7hVw"
      },
      "source": [
        "File handling is used when you need to access other files outside of the program\n",
        "\n",
        "\n",
        "* Since the files can't be edited/added into colab, please download the python documents presented in the shared google drive/ my github repo and try it out on pycharm/ vscode\n"
      ]
    },
    {
      "cell_type": "markdown",
      "metadata": {
        "id": "_9jy_c2IdvDR"
      },
      "source": [
        "Modes:\n",
        "*   R: Read a file \n",
        "*   W: Writes into a file; overrides file if filename is the same. It creates a new file if it doesn't exit.\n",
        "*   A: Appending to the end of the file; doesn't override file even when the filename is the same. It creates a new file if it doesn't exit.\n",
        "*   B: Opens in binary mode\n",
        "*   X: Creates a file, returns an error if it already exists\n",
        "*   +: Opens file for updating (read and write)"
      ]
    },
    {
      "cell_type": "code",
      "metadata": {
        "id": "ljG79X_VxpPB"
      },
      "source": [
        "# Opening a file, writing into it, and then closing it\n",
        "f = open(\"output.txt\", 'w') \n",
        "f.write(\"Hello world!\") \n",
        "f.close() \n",
        "print(type(f))\n",
        "\n",
        "# Alternitively, you can do this\n",
        "with open(\"output.txt\",'w') as f:\n",
        "  f.write(\"Hello world!\")"
      ],
      "execution_count": null,
      "outputs": []
    },
    {
      "cell_type": "code",
      "metadata": {
        "id": "6Zjs7LZ-v7r1"
      },
      "source": [
        "# Reading a file\n",
        "f = open(\"outfile.txt\", \"r\")\n",
        "print(f.read())\n",
        "f.close()\n",
        "\n",
        "# If the file is in a different location\n",
        "f = open(\"D:\\\\myfiles\\welcome.txt\", \"r\")\n",
        "print(f.read())\n",
        "f.close()\n",
        "\n",
        "# Reading foreign text\n",
        "# r means raw string; you can also specify encoding methods by adding the encoding arg\n",
        "f = open(r\"C:\\Users\\Austin\\Desktop\\三字經.txt\", \"r\",encoding=\"utf-8\")\n"
      ],
      "execution_count": null,
      "outputs": []
    },
    {
      "cell_type": "code",
      "metadata": {
        "id": "YAaX3EV3tUBA"
      },
      "source": [
        "# Finding current directory\n",
        "import os\n",
        "x = os.getcwd()\n",
        "print(x)"
      ],
      "execution_count": null,
      "outputs": []
    },
    {
      "cell_type": "code",
      "metadata": {
        "id": "kaCqbS_SteBl"
      },
      "source": [
        "# Removing a file\n",
        "import os\n",
        "os.remove(\"outfile.txt\")\n",
        "os.rmdir(\"myfolder\") # Removes the whole folder"
      ],
      "execution_count": null,
      "outputs": []
    },
    {
      "cell_type": "code",
      "metadata": {
        "id": "4WvH8UkBtosO"
      },
      "source": [
        "# Check if file exists, then delete it\n",
        "if os.path.exists(\"demofile.txt\"):\n",
        "  print(\"Im gonna remove demofile.txt\")\n",
        "  os.remove(\"demofile.txt\")\n",
        "else:\n",
        "  print(\"The file does not exist\")"
      ],
      "execution_count": null,
      "outputs": []
    },
    {
      "cell_type": "code",
      "metadata": {
        "id": "jnChsSncW4pN"
      },
      "source": [
        "# Taking content from a website\n",
        "import urllib.request\n",
        "\n",
        "url = \"https://raw.githubusercontent.com/DataBiosphere/toil/master/src/toil/test/wdl/test.csv\"\n",
        "local_copy = \"local.txt\"\n",
        "\n",
        "urllib.request.urlretrieve(url, local_copy) # This function copies the thing the url points at into\n",
        "# a local file copy\n",
        "\n",
        "with open(local_copy) as fh: # Print the file\n",
        "  for line in fh:\n",
        "    print(line, end=\"\")"
      ],
      "execution_count": null,
      "outputs": []
    },
    {
      "cell_type": "markdown",
      "metadata": {
        "id": "tU1bbC_f2Jep"
      },
      "source": [
        "#### **Challenge!**"
      ]
    },
    {
      "cell_type": "markdown",
      "metadata": {
        "id": "DqH_ZntfcdZs"
      },
      "source": [
        "Complete classes and functions shown below (block after example). The Square class should inherit the Rectangle class and the Cube class should inherit from the Square class."
      ]
    },
    {
      "cell_type": "code",
      "metadata": {
        "id": "J07Xtls0cMKl"
      },
      "source": [
        "# Example\n",
        "class Rectangle:\n",
        "  def __init__(self, length, width):\n",
        "      self.length = length\n",
        "      self.width = width\n",
        "  def area(self):\n",
        "      return self.length * self.width\n",
        "\n",
        "  def perimeter(self):\n",
        "      return 2 * self.length + 2 * self.width\n",
        "\n",
        "class Square:\n",
        "  def __init__(self, length):\n",
        "      self.length = length\n",
        "  def area(self):\t\t\t\t\t\t\t#Notice that this function\n",
        "      return self.length * self.length\n",
        "  def perimeter(self):\t\t\t\t\t#And this function are the same in Rectangle?\n",
        "      return 4 * self.length\t\t\t\t\n",
        "# In this example, we know that squares and rectangles are related to each other; a square is a special type of rectangle\n",
        "# The code shown, however, doesn't reflect that property. It makes it 2 different classes which is not what we want\n",
        "# By using inheritance, the amount of code is decreased and also reflects the relationship/ properties between squares and rectangles"
      ],
      "execution_count": null,
      "outputs": []
    },
    {
      "cell_type": "code",
      "metadata": {
        "id": "YO3CGCZ8cExA"
      },
      "source": [
        "# Rectangle class is given, you dont have to do anything to it\n",
        "class Rectangle:\n",
        "  def __init__(self, length, width):\n",
        "      self.length = length\n",
        "      self.width = width\n",
        "  def area(self):\n",
        "      return self.length * self.width\n",
        "  def perimeter(self):\n",
        "      return 2 * self.length + 2 * self.width\n",
        "\n",
        "# Here we declare that the Square class which inherits from the Rectangle class\n",
        "class Square(Rectangle):\n",
        "  def __init__(self, length):\n",
        "    # Take in the init function and use the super() function\n",
        "\n",
        "# Cube inherits properties of a square\n",
        "class Cube(Square):\n",
        "  def surface_area(self):\n",
        "    # define the surface area using area() and assign it to a variable\n",
        "    # Whats the difference between calculating a cube's area to a rectangle area?\n",
        "    # Return that value\n",
        "\n",
        "  def volume(self):\n",
        "    # Do the same thing as surface_area() but instead of returning surface area, we return the volume"
      ],
      "execution_count": null,
      "outputs": []
    },
    {
      "cell_type": "code",
      "metadata": {
        "id": "7rNKJtfIdcdA"
      },
      "source": [
        "# Test the outputs here\n",
        "square = Square(4)\n",
        "square.area()\n"
      ],
      "execution_count": null,
      "outputs": []
    },
    {
      "cell_type": "code",
      "metadata": {
        "id": "SEvjiRwkd1f9"
      },
      "source": [
        "rectangle = Rectangle(2,4)\n",
        "rectangle.area()"
      ],
      "execution_count": null,
      "outputs": []
    },
    {
      "cell_type": "code",
      "metadata": {
        "id": "SyniuWP1d1-I"
      },
      "source": [
        "cube = Cube(3)\n",
        "cube.surface_area()"
      ],
      "execution_count": null,
      "outputs": []
    },
    {
      "cell_type": "code",
      "metadata": {
        "id": "71WT0giLd4TN"
      },
      "source": [
        "cube.volume()"
      ],
      "execution_count": null,
      "outputs": []
    }
  ]
}