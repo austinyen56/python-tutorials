{
  "nbformat": 4,
  "nbformat_minor": 0,
  "metadata": {
    "colab": {
      "name": "L6 Importing Modules and Demonstrating Libraries .ipynb",
      "provenance": []
    },
    "kernelspec": {
      "name": "python3",
      "display_name": "Python 3"
    }
  },
  "cells": [
    {
      "cell_type": "markdown",
      "metadata": {
        "id": "ctMOjhERM42_"
      },
      "source": [
        "## **Importing Modules and Demonstrating Libraries**"
      ]
    },
    {
      "cell_type": "markdown",
      "metadata": {
        "id": "4MB1VNh4M7DJ"
      },
      "source": [
        "*This notebook is based on content from CSE20 (first CS class taken at UCSC). All workshops are recorded [here](https://drive.google.com/drive/folders/1Lg1ZWQ3-NhO-qhgzrpaTK0UvLmiWGukx?usp=sharing).*\n",
        "\n",
        "*If you have any questions, feel free to contact me via email: ayyen@ucsc.edu*"
      ]
    },
    {
      "cell_type": "markdown",
      "metadata": {
        "id": "PE_e2NS7M90w"
      },
      "source": [
        "#### **Recap From Last Workshop**"
      ]
    },
    {
      "cell_type": "markdown",
      "metadata": {
        "id": "47Mjxowk4qS5"
      },
      "source": [
        "*   Understand how classes and inheritance works\n",
        "\n",
        "*   Know how to open, read, write, and close files"
      ]
    },
    {
      "cell_type": "code",
      "metadata": {
        "id": "E9wgQ460M6wf"
      },
      "source": [
        "class Player:\n",
        "  def __init__(self, username, ingameName):\n",
        "    self.username = username\n",
        "    self.ign = ingameName\n",
        "\n",
        "  def printname(self):\n",
        "    print(\"The player's username is \",self.username,\"\\nAnd his in game name is \",self.ign)\n",
        "\n",
        "#Use the Person class to create an object, and then execute the printname method:\n",
        "x = Player(\"idkusername\", \"Khacroach\")\n",
        "x.printname()\n",
        "\n",
        "class Jungler(Player):\n",
        "  def __init__(self,username,ingameName,main,rank):\n",
        "    # Add properties here (It will override the Player class __init__)\n",
        "    super().__init__(username,ingameName)   # Takes data from Player class\n",
        "    self.main = main          # Adding new data\n",
        "    self.rank = rank\n",
        "  def printdata(self):\n",
        "    print(\"Username: \",self.username,\"\\nIGN: \",self.ign,\"\\nMain: \",self.main,\"\\nRank: \",self.rank,)\n",
        "x = Jungler(\"austin56\", \"Khacroach\", \"Khazix\",\"Gold\")\n",
        "x.printdata()"
      ],
      "execution_count": null,
      "outputs": []
    },
    {
      "cell_type": "markdown",
      "metadata": {
        "id": "iMiR9zrP7qgu"
      },
      "source": [
        "#### **Modules**"
      ]
    },
    {
      "cell_type": "markdown",
      "metadata": {
        "id": "nyocTqw1LxiK"
      },
      "source": [
        "A module is a file/ files that contains python code\n",
        "\n",
        "Those files contain functions that can be imported for your own use\n",
        "\n",
        "Must use the import keyword"
      ]
    },
    {
      "cell_type": "code",
      "metadata": {
        "id": "1kkHsNzBMbK6"
      },
      "source": [
        "import math \n",
        "# This line \"imports\" the math module, so that we can refer to it\n",
        "\n",
        "math.log10(100) \n",
        "# Now we're calling a function from the math module to compute log_10(100)"
      ],
      "execution_count": null,
      "outputs": []
    },
    {
      "cell_type": "code",
      "metadata": {
        "id": "7gifE-gO1sUg"
      },
      "source": [
        "import random\n",
        "rng = random.randrange(1,10)\n",
        "print(rng)"
      ],
      "execution_count": null,
      "outputs": []
    },
    {
      "cell_type": "code",
      "metadata": {
        "id": "ZH9XgL864b6l"
      },
      "source": [
        "from math import sqrt\n",
        "sqrt(2.0) #Only importing the specific function so no dot notation in required\n",
        "\n",
        "from math import *\n",
        "# Importing all functions from math\n",
        "# Depending on the situation, it might be overkill for small computations since you dont need to import the whole math library for one function\n",
        "# Also make sure that it does not collide with other modules with the same function name\n",
        "\n",
        "import tkinter as tk\n",
        "# Imports the tkinter module and abbreviating it as tk"
      ],
      "execution_count": null,
      "outputs": []
    },
    {
      "cell_type": "markdown",
      "metadata": {
        "id": "3V1VH1tadhAL"
      },
      "source": [
        "Installing Modules\n",
        "\n",
        "\n",
        "\n",
        "*   ctrl + alt + s in pycharm\n",
        "*   Install it natively using pip\n",
        "\n"
      ]
    },
    {
      "cell_type": "code",
      "metadata": {
        "id": "8FGI8wdzduZB"
      },
      "source": [
        "# Do this in command prompt/ terminal\n",
        "py -m install --upgrade pip\n",
        "# Alternatively you can install pip using pip (whoah recursion)\n",
        "pip install pip\n",
        "\n",
        "pip --version #Check pip version\n",
        "pip list #View all pip packages installed"
      ],
      "execution_count": null,
      "outputs": []
    },
    {
      "cell_type": "code",
      "metadata": {
        "id": "HzdvqrZFeJaV"
      },
      "source": [
        "# This is the error when a module isnt installed\n",
        "import wtfisthis"
      ],
      "execution_count": null,
      "outputs": []
    },
    {
      "cell_type": "markdown",
      "metadata": {
        "id": "BFgC-9diTB6n"
      },
      "source": [
        "Calling files from another python file\n",
        "\n",
        "Please refer to the python documents in the shared google drive!"
      ]
    },
    {
      "cell_type": "code",
      "metadata": {
        "id": "WFwU16nDS-2Z"
      },
      "source": [
        "# In the first file (a.py)\n",
        "def idk():\n",
        "  print('hi')\n",
        "\n",
        "# In the second file (b.py)\n",
        "import a\n",
        "a.idk()"
      ],
      "execution_count": null,
      "outputs": []
    },
    {
      "cell_type": "markdown",
      "metadata": {
        "id": "lwEuX7JNTZ6s"
      },
      "source": [
        "#### **Module Examples: math and numpy**"
      ]
    },
    {
      "cell_type": "code",
      "metadata": {
        "id": "wgwQA7pOS8QG"
      },
      "source": [
        "import math\n",
        "\n",
        "def quad_formula (a,b,c):\n",
        "    \"\"\"Return the solutions to the equation ax^2 +bx +c= 0\"\"\"\n",
        "    disc = b**2 -4*a*c\n",
        "    root1 = (-b + math.sqrt(disc)) / (2*a)\n",
        "    root2 = (-b - math.sqrt(disc)) / (2*a)\n",
        "    return (root1, root2)\n",
        "roots = quad_formula(1,0,-4)\n",
        "print(roots)"
      ],
      "execution_count": null,
      "outputs": []
    },
    {
      "cell_type": "code",
      "metadata": {
        "id": "A3vsF-d23BOb"
      },
      "source": [
        "import numpy as np\n",
        "a = np.array([[1, 7],\n",
        "        [2, 4]])\n",
        "\n",
        "b = np.array([[3, 3],\n",
        "        [5, 2]])\n",
        "\n",
        "c = np.matmul(a, b)\n",
        "print(c)"
      ],
      "execution_count": null,
      "outputs": []
    },
    {
      "cell_type": "markdown",
      "metadata": {
        "id": "qgOJLtIk3Huf"
      },
      "source": [
        "#### **Module Examples: mathplotlib**"
      ]
    },
    {
      "cell_type": "code",
      "metadata": {
        "id": "rCXyf_BG4wD5"
      },
      "source": [
        "import matplotlib.pyplot as plt\n",
        "import numpy as np\n",
        "\n",
        "x = np.arange(0,4*np.pi,0.1)   # start,stop,step\n",
        "y = np.sin(x)\n",
        "z = np.cos(x)\n",
        "\n",
        "plt.plot(x,y,x,z)\n",
        "plt.xlabel('x values from 0 to 4pi')  # string must be enclosed with quotes '  '\n",
        "plt.ylabel('sin(x) and cos(x)')\n",
        "plt.title('Plot of sin and cos from 0 to 4pi')\n",
        "plt.legend(['sin(x)', 'cos(x)'])      # legend entries as seperate strings in a list\n",
        "plt.show()\n"
      ],
      "execution_count": null,
      "outputs": []
    },
    {
      "cell_type": "code",
      "metadata": {
        "id": "SmmTSWH38Ozf"
      },
      "source": [
        "from mpl_toolkits import mplot3d\n",
        "import numpy as np\n",
        "import matplotlib.pyplot as plt\n",
        "fig = plt.figure()\n",
        "ax = plt.axes(projection='3d')\n",
        "\n",
        "def f(x, y):\n",
        "    return np.sin(np.sqrt(x ** 2 + y ** 2))\n",
        "\n",
        "x = np.linspace(-6, 6, 30)\n",
        "y = np.linspace(-6, 6, 30)\n",
        "\n",
        "X, Y = np.meshgrid(x, y)\n",
        "Z = f(X, Y)\n",
        "ax = plt.axes(projection='3d')\n",
        "ax.plot_surface(X, Y, Z, rstride=1, cstride=1,cmap='viridis', edgecolor='none')\n",
        "ax.set_title('surface')"
      ],
      "execution_count": null,
      "outputs": []
    },
    {
      "cell_type": "markdown",
      "metadata": {
        "id": "H8xySc4oJ4wR"
      },
      "source": [
        "#### **Module Examples: pygame**"
      ]
    },
    {
      "cell_type": "code",
      "metadata": {
        "id": "Ys3XJxEdGd90"
      },
      "source": [
        "# Pygame example (3D Doughnut)\n",
        "# https://www.youtube.com/watch?v=zn4Yvxww58g&ab_channel=GiovanniCode\n",
        "import pygame\n",
        "import math\n",
        "import colorsys\n",
        "\n",
        "pygame.init()\n",
        "\n",
        "white = (255, 255, 255)\n",
        "black = (0, 0, 0)\n",
        "hue = 0\n",
        "\n",
        "WIDTH = 1920\n",
        "HEIGHT = 1080\n",
        "\n",
        "x_start, y_start = 0, 0\n",
        "\n",
        "x_separator = 10\n",
        "y_separator = 20\n",
        "\n",
        "rows = HEIGHT // y_separator\n",
        "columns = WIDTH // x_separator\n",
        "screen_size = rows * columns\n",
        "\n",
        "x_offset = columns / 2\n",
        "y_offset = rows / 2\n",
        "\n",
        "A, B = 0, 0  # rotating animation\n",
        "\n",
        "theta_spacing = 10\n",
        "phi_spacing = 1 # for faster rotation change to 2, 3 or more, but first change 86, 87 lines as commented\n",
        "\n",
        "chars = \".,-~:;=!*#$@\"  # luminance index\n",
        "\n",
        "screen = pygame.display.set_mode((WIDTH, HEIGHT))\n",
        "\n",
        "display_surface = pygame.display.set_mode((WIDTH, HEIGHT))\n",
        "# display_surface = pygame.display.set_mode((0, 0), pygame.FULLSCREEN)\n",
        "pygame.display.set_caption('Donut')\n",
        "font = pygame.font.SysFont('Arial', 18, bold=True)\n",
        "\n",
        "def hsv2rgb(h, s, v):\n",
        "    return tuple(round(i * 255) for i in colorsys.hsv_to_rgb(h, s, v))\n",
        "\n",
        "\n",
        "def text_display(letter, x_start, y_start):\n",
        "    text = font.render(str(letter), True, hsv2rgb(hue, 1, 1))\n",
        "    display_surface.blit(text, (x_start, y_start))\n",
        "\n",
        "# def text_display(letter, x_start, y_start):\n",
        "#     text = font.render(str(letter), True, white)\n",
        "#     display_surface.blit(text, (x_start, y_start))\n",
        "\n",
        "\n",
        "run = True\n",
        "while run:\n",
        "\n",
        "    screen.fill((black))\n",
        "\n",
        "    z = [0] * screen_size  # Donut. Fills donut space\n",
        "    b = [' '] * screen_size  # Background. Fills empty space\n",
        "\n",
        "    for j in range(0, 628, theta_spacing):  # from 0 to 2pi\n",
        "        for i in range(0, 628, phi_spacing):  # from 0 to 2pi\n",
        "            c = math.sin(i)\n",
        "            d = math.cos(j)\n",
        "            e = math.sin(A)\n",
        "            f = math.sin(j)\n",
        "            g = math.cos(A)\n",
        "            h = d + 2\n",
        "            D = 1 / (c * h * e + f * g + 5)\n",
        "            l = math.cos(i)\n",
        "            m = math.cos(B)\n",
        "            n = math.sin(B)\n",
        "            t = c * h * g - f * e\n",
        "            x = int(x_offset + 40 * D * (l * h * m - t * n))  # 3D x coordinate after rotation\n",
        "            y = int(y_offset + 20 * D * (l * h * n + t * m))  # 3D y coordinate after rotation\n",
        "            o = int(x + columns * y)  # 3D z coordinate after rotation\n",
        "            N = int(8 * ((f * e - c * d * g) * m - c * d * e - f * g - l * d * n))  # luminance index\n",
        "            if rows > y and y > 0 and x > 0 and columns > x and D > z[o]:\n",
        "                z[o] = D\n",
        "                b[o] = chars[N if N > 0 else 0]\n",
        "\n",
        "    if y_start == rows * y_separator - y_separator:\n",
        "        y_start = 0\n",
        "\n",
        "    for i in range(len(b)):\n",
        "        A += 0.000002 # for faster rotation change to 0.0002\n",
        "        B += 0.000001 # for faster rotation change to 0.0001\n",
        "        if i == 0 or i % columns:\n",
        "            text_display(b[i], x_start, y_start)\n",
        "            x_start += x_separator\n",
        "        else:\n",
        "            y_start += y_separator\n",
        "            x_start = 0\n",
        "            text_display(b[i], x_start, y_start)\n",
        "            x_start += x_separator\n",
        "\n",
        "\n",
        "    pygame.display.update()\n",
        "\n",
        "    hue += 0.005\n",
        "\n",
        "    for event in pygame.event.get():\n",
        "        if event.type == pygame.QUIT:\n",
        "            run = False"
      ],
      "execution_count": null,
      "outputs": []
    },
    {
      "cell_type": "code",
      "metadata": {
        "id": "V73y-98uJsDs"
      },
      "source": [
        "#Tkinter example, look at L6.py"
      ],
      "execution_count": null,
      "outputs": []
    },
    {
      "cell_type": "markdown",
      "metadata": {
        "id": "-_T22yRQKj-j"
      },
      "source": [
        "#### **Module Examples: requests**"
      ]
    },
    {
      "cell_type": "code",
      "metadata": {
        "id": "MV7zSgviKhwl"
      },
      "source": [
        "import requests\n",
        "URL = \"http://httpbin.org/ip\"\n",
        "def ipSearch():\n",
        "    response =requests.get(URL)\n",
        "    ip =response.json()['origin']\n",
        "    return ip.split(\",\")[0]\n",
        "\n",
        "if __name__=='__main__':\n",
        "    print('Your IP is:', ipSearch())"
      ],
      "execution_count": null,
      "outputs": []
    },
    {
      "cell_type": "code",
      "metadata": {
        "id": "SQIs3EjSLvg7"
      },
      "source": [
        "g = geocoder.ip('199.7.157.0')\n",
        "g = geocoder.ip('me')\n",
        "g.latlng\n",
        "g.city"
      ],
      "execution_count": null,
      "outputs": []
    },
    {
      "cell_type": "markdown",
      "metadata": {
        "id": "tU1bbC_f2Jep"
      },
      "source": [
        "#### **Challenge!**"
      ]
    },
    {
      "cell_type": "markdown",
      "metadata": {
        "id": "DqH_ZntfcdZs"
      },
      "source": [
        "Use the pafy module to download a video on youtube and then convert it to .webm and save it in your current directory"
      ]
    },
    {
      "cell_type": "code",
      "metadata": {
        "id": "J07Xtls0cMKl"
      },
      "source": [
        "import pafy\n",
        "import pafy\n",
        "\n",
        "song_url = input('Enter song url:')\n",
        "# create a video instance by assigning it to a variable\n",
        "# use the .getbestaudio() function to obtain the hightest audio quality from the url\n",
        "# use the .download() function to download the file\n",
        "\n",
        "print(\"Size is %s\" % s.get_filesize())\n",
        "mp4_dir = print('{}.mp4'.format(v.title))"
      ],
      "execution_count": null,
      "outputs": []
    },
    {
      "cell_type": "markdown",
      "metadata": {
        "id": "_6Wr6ErkOZO1"
      },
      "source": [
        "#### **That's a wrap!**"
      ]
    },
    {
      "cell_type": "markdown",
      "metadata": {
        "id": "vEQB6fmBOl9K"
      },
      "source": [
        "Congrats! This is the end of the \"crash course\" series of intro to Python! Hope you guys learned alot through these notebooks. If you have any questions, feel free to contact me via email (ayyen@ucsc.edu) or PM me through discord\n",
        "\n",
        "Link for all files (in case the shared google drive doesnt work for you): \n",
        "https://github.com/austinyen56/python-tutorials"
      ]
    },
    {
      "cell_type": "markdown",
      "metadata": {
        "id": "Toq8jKRJOV47"
      },
      "source": [
        "Just some helpful links:\n",
        "\n",
        "\n",
        "https://www.w3schools.com/python/default.asp\n",
        "\n",
        "http://www.pythontutor.com/visualize.html#mode=edit\n",
        "\n",
        "https://pypi.org/"
      ]
    }
  ]
}